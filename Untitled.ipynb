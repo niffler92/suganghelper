{
 "cells": [
  {
   "cell_type": "code",
   "execution_count": 1,
   "metadata": {
    "collapsed": true
   },
   "outputs": [],
   "source": [
    "import datetime, time\n",
    "import os\n",
    "\n",
    "import numpy as np\n",
    "import pandas as pd\n",
    "from bs4 import BeautifulSoup\n",
    "from selenium import webdriver\n",
    "from selenium.webdriver.support import expected_conditions as EC\n",
    "from selenium.webdriver.common.by import By\n",
    "from selenium.webdriver.support.wait import WebDriverWait\n",
    "from selenium.common.exceptions import WebDriverException\n",
    "import pytesseract\n",
    "from PIL import Image, ImageGrab, ImageFilter, ImageEnhance\n",
    "import keyboard\n",
    "import cv2\n",
    "\n",
    "from settings import HAKBUN, PASSWORD, classes, coordinates\n",
    "from utils import log"
   ]
  },
  {
   "cell_type": "code",
   "execution_count": 2,
   "metadata": {
    "collapsed": true
   },
   "outputs": [],
   "source": [
    "path = os.path.abspath('./')\n",
    "pytesseract.pytesseract.tesseract_cmd = 'C:/Program Files (x86)/Tesseract-OCR/tesseract'"
   ]
  },
  {
   "cell_type": "code",
   "execution_count": 3,
   "metadata": {
    "collapsed": true
   },
   "outputs": [],
   "source": [
    "classes = ['호신술', '고급시계열분석', '고속 프로그래밍 방법 및 실습', '수리확률론특강(기계학습/인공지능)', '기계학습 산업응용', '컴퓨터프로그래밍']"
   ]
  },
  {
   "cell_type": "code",
   "execution_count": 4,
   "metadata": {
    "collapsed": true
   },
   "outputs": [],
   "source": [
    "def log_in(driver, Id=HAKBUN, password=PASSWORD):    \n",
    "    driver.get('http://sugang.snu.ac.kr')\n",
    "    driver.switch_to.frame(driver.find_elements_by_tag_name(\"iframe\")[0])\n",
    "\n",
    "    driver.implicitly_wait(5)\n",
    "    driver.find_element_by_id('j_username').send_keys(Id)\n",
    "    driver.implicitly_wait(1)\n",
    "    driver.find_element_by_id('t_password').send_keys(password)\n",
    "    driver.find_element_by_xpath('//*[@id=\"CO010\"]/div/div/p[3]/a').click()"
   ]
  },
  {
   "cell_type": "code",
   "execution_count": 5,
   "metadata": {
    "collapsed": true
   },
   "outputs": [],
   "source": [
    "def check_classes(driver, classes, save_capture=False):\n",
    "    assert type(classes) == list, \"Must be a list of classes for sugang.\"\n",
    "    \n",
    "    driver.get('https://sugang.snu.ac.kr/sugang/cc/cc210.action')\n",
    "    html = driver.page_source\n",
    "    df_sugang = pd.read_html(html)[0]\n",
    "    df_sugang = df_sugang[~df_sugang.loc[:, df_sugang.columns=='정원(재학생)'].isnull().values].reindex()\n",
    "\n",
    "    for idx, values in df_sugang.iterrows():\n",
    "        full = int(values['정원(재학생)'].split()[0])\n",
    "        current = values['수강신청인원']\n",
    "        \n",
    "        if full > current and values['교과목명(부제명)'] in classes:\n",
    "            log.info(\"Trying to enroll in class {}: ({}/{})\".format(\n",
    "                values['교과목명(부제명)'], int(current), full))\n",
    "            enrolled =  enroll_in_class(driver, values['교과목명(부제명)'], idx + 1, save_capture)\n",
    "            if (idx+1) < len(classes): driver.get('https://sugang.snu.ac.kr/sugang/cc/cc210.action')\n",
    "            time.sleep(0.3)\n",
    "#             if enrolled:\n",
    "#                 classes.remove(values['교과목명(부제명)'])"
   ]
  },
  {
   "cell_type": "code",
   "execution_count": 6,
   "metadata": {
    "collapsed": true
   },
   "outputs": [],
   "source": [
    "def enroll_in_class(driver, classname, index, save_capture=False):\n",
    "    \n",
    "    content = driver.find_element_by_id('content')\n",
    "    table = content.find_element_by_tag_name('table')\n",
    "    check = table.find_element_by_xpath('//tr[{}]/td[1]/input[1]'.format(index))\n",
    "    check.click()\n",
    "    \n",
    "    save_path = os.path.join(path, 'screenshot/',\n",
    "                     datetime.datetime.now().strftime('%m%d_%H%M%S.png'))\n",
    "    \n",
    "    driver.find_element_by_id('imageText').screenshot(save_path)\n",
    "    im = Image.open(save_path)\n",
    "#     im = ImageGrab.grab(bbox=(coordinates['x1'], coordinates['y1'],\n",
    "#                           coordinates['x2'], coordinates['y2']))\n",
    "    im.save(save_path, dpi=(500, 500))\n",
    "    \n",
    "    text = image_to_text(filepath=save_path, save=save_capture)\n",
    "    log.info(\"Detected digits for {} : {}\".format(save_path, text))\n",
    "\n",
    "    driver.find_element_by_xpath('//*[@id=\"inputTextView\"]').send_keys(text)\n",
    "    keyboard.press_and_release('enter')\n",
    "    keyboard.press_and_release('enter') # Pop-up \n",
    "    \n",
    "    return True  # FIXME"
   ]
  },
  {
   "cell_type": "code",
   "execution_count": 7,
   "metadata": {
    "collapsed": true
   },
   "outputs": [],
   "source": [
    "def image_to_text(img=None, filepath=None, save=False):\n",
    "    \"\"\"\n",
    "    Input can be either image or filepath of the image\n",
    "    \"\"\"\n",
    "    if filepath and img is None:\n",
    "        img = cv2.imread(filepath, 0)\n",
    "        \n",
    "    img_th = cv2.adaptiveThreshold(img, 255,\\\n",
    "        cv2.ADAPTIVE_THRESH_MEAN_C,cv2.THRESH_BINARY, 11, 2)\n",
    "    img_th = Image.fromarray(img_th)\n",
    "#     w,h = img.shape\n",
    "#     img_th = img_th.resize((3*h, 3*w))\n",
    "    img_th = img_th.filter(ImageFilter.MedianFilter())\n",
    "    enhancer = ImageEnhance.Contrast(img_th)\n",
    "    img_th = enhancer.enhance(2)\n",
    "    \n",
    "    show(img_th)\n",
    "        \n",
    "    text = pytesseract.image_to_string(\n",
    "        img_th,\n",
    "        config = '--psm 11 --oem 2 -c tessedit_char_whitelist=0123456789')\n",
    "    text = ''.join(text.split())\n",
    "    \n",
    "    save_path = os.path.join(path, 'screenshot/',\n",
    "                         datetime.datetime.now().strftime('%m%d_%H%M%S.png'))\n",
    "    img_th.save(save_path, dpi=(500, 500)) if save else os.remove(save_path)\n",
    "\n",
    "    return text"
   ]
  },
  {
   "cell_type": "code",
   "execution_count": 8,
   "metadata": {
    "collapsed": true
   },
   "outputs": [],
   "source": [
    "def save_remaining(classes):\n",
    "    pass\n",
    "\n",
    "def main():\n",
    "    driver = webdriver.Firefox(executable_path=os.path.join(path, 'geckodriver.exe'))\n",
    "    log_in(driver, Id=HAKBUN, password=PASSWORD)\n",
    "    st = time.time()\n",
    "    while True:\n",
    "        check_classes(driver, classes, save_capture=True)\n",
    "        time.sleep(0.3)\n",
    "        if time.time() - st > 60:\n",
    "#             save_remaining(classes)\n",
    "            break"
   ]
  },
  {
   "cell_type": "code",
   "execution_count": 293,
   "metadata": {
    "collapsed": true
   },
   "outputs": [],
   "source": [
    "classes = ['호신술', '고급시계열분석', '고속 프로그래밍 방법 및 실습', '수리확률론특강(기계학습/인공지능)', '기계학습 산업응용', '컴퓨터프로그래밍']"
   ]
  },
  {
   "cell_type": "code",
   "execution_count": 29,
   "metadata": {},
   "outputs": [
    {
     "name": "stderr",
     "output_type": "stream",
     "text": [
      "[INFO|<ipython-input-5-bffc114a69cc>:15] 2017-07-30 14:06:09,173 > Trying to enroll in class 고급시계열분석: (8/40)\n"
     ]
    },
    {
     "data": {
      "image/png": "[encoded data removed]",
      "text/plain": [
       "<matplotlib.figure.Figure at 0x19602d7e4e0>"
      ]
     },
     "metadata": {},
     "output_type": "display_data"
    },
    {
     "name": "stderr",
     "output_type": "stream",
     "text": [
      "[INFO|<ipython-input-26-0b0469286d77>:18] 2017-07-30 14:06:10,232 > Detected digits for C:\\Users\\Jisung\\workspace\\suganghelper\\screenshot/0730_140609.png : \n",
      "[INFO|<ipython-input-5-bffc114a69cc>:15] 2017-07-30 14:06:10,940 > Trying to enroll in class 컴퓨터프로그래밍: (64/100)\n"
     ]
    },
    {
     "data": {
      "image/png": "[encoded data removed]",
      "text/plain": [
       "<matplotlib.figure.Figure at 0x19603161b38>"
      ]
     },
     "metadata": {},
     "output_type": "display_data"
    },
    {
     "name": "stderr",
     "output_type": "stream",
     "text": [
      "[INFO|<ipython-input-26-0b0469286d77>:18] 2017-07-30 14:06:11,867 > Detected digits for C:\\Users\\Jisung\\workspace\\suganghelper\\screenshot/0730_140611.png : \n",
      "[INFO|<ipython-input-5-bffc114a69cc>:15] 2017-07-30 14:06:12,915 > Trying to enroll in class 고급시계열분석: (8/40)\n"
     ]
    },
    {
     "data": {
      "image/png": "[encoded data removed]",
      "text/plain": [
       "<matplotlib.figure.Figure at 0x19602d7e1d0>"
      ]
     },
     "metadata": {},
     "output_type": "display_data"
    },
    {
     "name": "stderr",
     "output_type": "stream",
     "text": [
      "[INFO|<ipython-input-26-0b0469286d77>:18] 2017-07-30 14:06:13,861 > Detected digits for C:\\Users\\Jisung\\workspace\\suganghelper\\screenshot/0730_140613.png : 82\n",
      "[INFO|<ipython-input-5-bffc114a69cc>:15] 2017-07-30 14:06:14,634 > Trying to enroll in class 컴퓨터프로그래밍: (64/100)\n"
     ]
    },
    {
     "data": {
      "image/png": "[encoded data removed]",
      "text/plain": [
       "<matplotlib.figure.Figure at 0x196032695c0>"
      ]
     },
     "metadata": {},
     "output_type": "display_data"
    },
    {
     "name": "stderr",
     "output_type": "stream",
     "text": [
      "[INFO|<ipython-input-26-0b0469286d77>:18] 2017-07-30 14:06:16,195 > Detected digits for C:\\Users\\Jisung\\workspace\\suganghelper\\screenshot/0730_140614.png : 6o\n",
      "[INFO|<ipython-input-5-bffc114a69cc>:15] 2017-07-30 14:06:17,462 > Trying to enroll in class 고급시계열분석: (8/40)\n"
     ]
    },
    {
     "data": {
      "image/png": "[encoded data removed]",
      "text/plain": [
       "<matplotlib.figure.Figure at 0x19604374940>"
      ]
     },
     "metadata": {},
     "output_type": "display_data"
    },
    {
     "name": "stderr",
     "output_type": "stream",
     "text": [
      "[INFO|<ipython-input-26-0b0469286d77>:18] 2017-07-30 14:06:18,444 > Detected digits for C:\\Users\\Jisung\\workspace\\suganghelper\\screenshot/0730_140617.png : 96\n",
      "[INFO|<ipython-input-5-bffc114a69cc>:15] 2017-07-30 14:06:19,111 > Trying to enroll in class 컴퓨터프로그래밍: (64/100)\n"
     ]
    },
    {
     "data": {
      "image/png": "[encoded data removed]",
      "text/plain": [
       "<matplotlib.figure.Figure at 0x19603308c88>"
      ]
     },
     "metadata": {},
     "output_type": "display_data"
    },
    {
     "name": "stderr",
     "output_type": "stream",
     "text": [
      "[INFO|<ipython-input-26-0b0469286d77>:18] 2017-07-30 14:06:20,141 > Detected digits for C:\\Users\\Jisung\\workspace\\suganghelper\\screenshot/0730_140619.png : 52\n",
      "[INFO|<ipython-input-5-bffc114a69cc>:15] 2017-07-30 14:06:21,460 > Trying to enroll in class 고급시계열분석: (8/40)\n"
     ]
    },
    {
     "data": {
      "image/png": "[encoded data removed]",
      "text/plain": [
       "<matplotlib.figure.Figure at 0x19604489a58>"
      ]
     },
     "metadata": {},
     "output_type": "display_data"
    },
    {
     "name": "stderr",
     "output_type": "stream",
     "text": [
      "[INFO|<ipython-input-26-0b0469286d77>:18] 2017-07-30 14:06:22,869 > Detected digits for C:\\Users\\Jisung\\workspace\\suganghelper\\screenshot/0730_140621.png : 69\n",
      "[INFO|<ipython-input-5-bffc114a69cc>:15] 2017-07-30 14:06:23,573 > Trying to enroll in class 컴퓨터프로그래밍: (64/100)\n"
     ]
    },
    {
     "data": {
      "image/png": "[encoded data removed]",
      "text/plain": [
       "<matplotlib.figure.Figure at 0x19604392d68>"
      ]
     },
     "metadata": {},
     "output_type": "display_data"
    },
    {
     "name": "stderr",
     "output_type": "stream",
     "text": [
      "[INFO|<ipython-input-26-0b0469286d77>:18] 2017-07-30 14:06:24,629 > Detected digits for C:\\Users\\Jisung\\workspace\\suganghelper\\screenshot/0730_140623.png : 25\n",
      "[INFO|<ipython-input-5-bffc114a69cc>:15] 2017-07-30 14:06:25,846 > Trying to enroll in class 고급시계열분석: (8/40)\n"
     ]
    },
    {
     "data": {
      "image/png": "[encoded data removed]",
      "text/plain": [
       "<matplotlib.figure.Figure at 0x196043920f0>"
      ]
     },
     "metadata": {},
     "output_type": "display_data"
    },
    {
     "name": "stderr",
     "output_type": "stream",
     "text": [
      "[INFO|<ipython-input-26-0b0469286d77>:18] 2017-07-30 14:06:26,747 > Detected digits for C:\\Users\\Jisung\\workspace\\suganghelper\\screenshot/0730_140626.png : 43\n",
      "[INFO|<ipython-input-5-bffc114a69cc>:15] 2017-07-30 14:06:27,450 > Trying to enroll in class 컴퓨터프로그래밍: (64/100)\n"
     ]
    },
    {
     "data": {
      "image/png": "[encoded data removed]",
      "text/plain": [
       "<matplotlib.figure.Figure at 0x196043cb7f0>"
      ]
     },
     "metadata": {},
     "output_type": "display_data"
    },
    {
     "name": "stderr",
     "output_type": "stream",
     "text": [
      "[INFO|<ipython-input-26-0b0469286d77>:18] 2017-07-30 14:06:29,302 > Detected digits for C:\\Users\\Jisung\\workspace\\suganghelper\\screenshot/0730_140627.png : 32\n",
      "[INFO|<ipython-input-5-bffc114a69cc>:15] 2017-07-30 14:06:30,911 > Trying to enroll in class 고급시계열분석: (8/40)\n"
     ]
    },
    {
     "data": {
      "image/png": "[encoded data removed]",
      "text/plain": [
       "<matplotlib.figure.Figure at 0x1960325a7b8>"
      ]
     },
     "metadata": {},
     "output_type": "display_data"
    },
    {
     "name": "stderr",
     "output_type": "stream",
     "text": [
      "[INFO|<ipython-input-26-0b0469286d77>:18] 2017-07-30 14:06:32,366 > Detected digits for C:\\Users\\Jisung\\workspace\\suganghelper\\screenshot/0730_140631.png : 39\n",
      "[INFO|<ipython-input-5-bffc114a69cc>:15] 2017-07-30 14:06:33,464 > Trying to enroll in class 컴퓨터프로그래밍: (64/100)\n"
     ]
    },
    {
     "data": {
      "image/png": "[encoded data removed]",
      "text/plain": [
       "<matplotlib.figure.Figure at 0x196044a1518>"
      ]
     },
     "metadata": {},
     "output_type": "display_data"
    },
    {
     "name": "stderr",
     "output_type": "stream",
     "text": [
      "[INFO|<ipython-input-26-0b0469286d77>:18] 2017-07-30 14:06:35,888 > Detected digits for C:\\Users\\Jisung\\workspace\\suganghelper\\screenshot/0730_140633.png : 4o\n",
      "[INFO|<ipython-input-5-bffc114a69cc>:15] 2017-07-30 14:06:37,597 > Trying to enroll in class 고급시계열분석: (8/40)\n"
     ]
    },
    {
     "data": {
      "image/png": "[encoded data removed]",
      "text/plain": [
       "<matplotlib.figure.Figure at 0x19604435780>"
      ]
     },
     "metadata": {},
     "output_type": "display_data"
    },
    {
     "name": "stderr",
     "output_type": "stream",
     "text": [
      "[INFO|<ipython-input-26-0b0469286d77>:18] 2017-07-30 14:06:38,894 > Detected digits for C:\\Users\\Jisung\\workspace\\suganghelper\\screenshot/0730_140638.png : :;1\n",
      "[INFO|<ipython-input-5-bffc114a69cc>:15] 2017-07-30 14:06:39,940 > Trying to enroll in class 컴퓨터프로그래밍: (64/100)\n"
     ]
    },
    {
     "data": {
      "image/png": "[encoded data removed]",
      "text/plain": [
       "<matplotlib.figure.Figure at 0x1960444b828>"
      ]
     },
     "metadata": {},
     "output_type": "display_data"
    },
    {
     "name": "stderr",
     "output_type": "stream",
     "text": [
      "[INFO|<ipython-input-26-0b0469286d77>:18] 2017-07-30 14:06:40,947 > Detected digits for C:\\Users\\Jisung\\workspace\\suganghelper\\screenshot/0730_140640.png : g?\n",
      "[INFO|<ipython-input-5-bffc114a69cc>:15] 2017-07-30 14:06:43,027 > Trying to enroll in class 고급시계열분석: (8/40)\n"
     ]
    },
    {
     "data": {
      "image/png": "[encoded data removed]",
      "text/plain": [
       "<matplotlib.figure.Figure at 0x1960444b128>"
      ]
     },
     "metadata": {},
     "output_type": "display_data"
    },
    {
     "name": "stderr",
     "output_type": "stream",
     "text": [
      "[INFO|<ipython-input-26-0b0469286d77>:18] 2017-07-30 14:06:44,358 > Detected digits for C:\\Users\\Jisung\\workspace\\suganghelper\\screenshot/0730_140643.png : 19\n",
      "[INFO|<ipython-input-5-bffc114a69cc>:15] 2017-07-30 14:06:45,308 > Trying to enroll in class 컴퓨터프로그래밍: (64/100)\n"
     ]
    },
    {
     "data": {
      "image/png": "[encoded data removed]",
      "text/plain": [
       "<matplotlib.figure.Figure at 0x1960324da20>"
      ]
     },
     "metadata": {},
     "output_type": "display_data"
    },
    {
     "name": "stderr",
     "output_type": "stream",
     "text": [
      "[INFO|<ipython-input-26-0b0469286d77>:18] 2017-07-30 14:06:46,407 > Detected digits for C:\\Users\\Jisung\\workspace\\suganghelper\\screenshot/0730_140645.png : \n",
      "[INFO|<ipython-input-5-bffc114a69cc>:15] 2017-07-30 14:06:48,085 > Trying to enroll in class 고급시계열분석: (8/40)\n"
     ]
    },
    {
     "data": {
      "image/png": "[encoded data removed]",
      "text/plain": [
       "<matplotlib.figure.Figure at 0x1960436a470>"
      ]
     },
     "metadata": {},
     "output_type": "display_data"
    },
    {
     "name": "stderr",
     "output_type": "stream",
     "text": [
      "[INFO|<ipython-input-26-0b0469286d77>:18] 2017-07-30 14:06:50,015 > Detected digits for C:\\Users\\Jisung\\workspace\\suganghelper\\screenshot/0730_140648.png : §2\n",
      "[INFO|<ipython-input-5-bffc114a69cc>:15] 2017-07-30 14:06:51,215 > Trying to enroll in class 컴퓨터프로그래밍: (64/100)\n"
     ]
    },
    {
     "data": {
      "image/png": "[encoded data removed]",
      "text/plain": [
       "<matplotlib.figure.Figure at 0x196031a9cc0>"
      ]
     },
     "metadata": {},
     "output_type": "display_data"
    },
    {
     "name": "stderr",
     "output_type": "stream",
     "text": [
      "[INFO|<ipython-input-26-0b0469286d77>:18] 2017-07-30 14:06:52,607 > Detected digits for C:\\Users\\Jisung\\workspace\\suganghelper\\screenshot/0730_140651.png : o1\n",
      "[INFO|<ipython-input-5-bffc114a69cc>:15] 2017-07-30 14:06:54,226 > Trying to enroll in class 고급시계열분석: (8/40)\n"
     ]
    },
    {
     "data": {
      "image/png": "[encoded data removed]",
      "text/plain": [
       "<matplotlib.figure.Figure at 0x196032dea20>"
      ]
     },
     "metadata": {},
     "output_type": "display_data"
    },
    {
     "name": "stderr",
     "output_type": "stream",
     "text": [
      "[INFO|<ipython-input-26-0b0469286d77>:18] 2017-07-30 14:06:55,328 > Detected digits for C:\\Users\\Jisung\\workspace\\suganghelper\\screenshot/0730_140654.png : 63\n",
      "[INFO|<ipython-input-5-bffc114a69cc>:15] 2017-07-30 14:06:56,328 > Trying to enroll in class 컴퓨터프로그래밍: (64/100)\n"
     ]
    },
    {
     "data": {
      "image/png": "[encoded data removed]",
      "text/plain": [
       "<matplotlib.figure.Figure at 0x196032fccc0>"
      ]
     },
     "metadata": {},
     "output_type": "display_data"
    },
    {
     "name": "stderr",
     "output_type": "stream",
     "text": [
      "[INFO|<ipython-input-26-0b0469286d77>:18] 2017-07-30 14:06:58,036 > Detected digits for C:\\Users\\Jisung\\workspace\\suganghelper\\screenshot/0730_140656.png : 02\n",
      "[INFO|<ipython-input-5-bffc114a69cc>:15] 2017-07-30 14:06:59,577 > Trying to enroll in class 고급시계열분석: (8/40)\n"
     ]
    },
    {
     "data": {
      "image/png": "[encoded data removed]",
      "text/plain": [
       "<matplotlib.figure.Figure at 0x19604580128>"
      ]
     },
     "metadata": {},
     "output_type": "display_data"
    },
    {
     "name": "stderr",
     "output_type": "stream",
     "text": [
      "[INFO|<ipython-input-26-0b0469286d77>:18] 2017-07-30 14:07:00,582 > Detected digits for C:\\Users\\Jisung\\workspace\\suganghelper\\screenshot/0730_140659.png : 58\n",
      "[INFO|<ipython-input-5-bffc114a69cc>:15] 2017-07-30 14:07:01,545 > Trying to enroll in class 컴퓨터프로그래밍: (64/100)\n"
     ]
    },
    {
     "data": {
      "image/png": "[encoded data removed]",
      "text/plain": [
       "<matplotlib.figure.Figure at 0x196045c24e0>"
      ]
     },
     "metadata": {},
     "output_type": "display_data"
    },
    {
     "name": "stderr",
     "output_type": "stream",
     "text": [
      "[INFO|<ipython-input-26-0b0469286d77>:18] 2017-07-30 14:07:02,788 > Detected digits for C:\\Users\\Jisung\\workspace\\suganghelper\\screenshot/0730_140701.png : g1\n",
      "[INFO|<ipython-input-5-bffc114a69cc>:15] 2017-07-30 14:07:04,909 > Trying to enroll in class 고급시계열분석: (8/40)\n"
     ]
    },
    {
     "data": {
      "image/png": "[encoded data removed]",
      "text/plain": [
       "<matplotlib.figure.Figure at 0x19602d776a0>"
      ]
     },
     "metadata": {},
     "output_type": "display_data"
    },
    {
     "name": "stderr",
     "output_type": "stream",
     "text": [
      "[INFO|<ipython-input-26-0b0469286d77>:18] 2017-07-30 14:07:06,007 > Detected digits for C:\\Users\\Jisung\\workspace\\suganghelper\\screenshot/0730_140705.png : \n",
      "[INFO|<ipython-input-5-bffc114a69cc>:15] 2017-07-30 14:07:07,346 > Trying to enroll in class 컴퓨터프로그래밍: (64/100)\n"
     ]
    },
    {
     "data": {
      "image/png": "[encoded data removed]",
      "text/plain": [
       "<matplotlib.figure.Figure at 0x19602d77e10>"
      ]
     },
     "metadata": {},
     "output_type": "display_data"
    },
    {
     "name": "stderr",
     "output_type": "stream",
     "text": [
      "[INFO|<ipython-input-26-0b0469286d77>:18] 2017-07-30 14:07:08,378 > Detected digits for C:\\Users\\Jisung\\workspace\\suganghelper\\screenshot/0730_140707.png : 55\n"
     ]
    }
   ],
   "source": [
    "main()"
   ]
  },
  {
   "cell_type": "code",
   "execution_count": 122,
   "metadata": {
    "collapsed": true
   },
   "outputs": [],
   "source": [
    "index = 1"
   ]
  },
  {
   "cell_type": "code",
   "execution_count": 10,
   "metadata": {
    "collapsed": true
   },
   "outputs": [],
   "source": []
  },
  {
   "cell_type": "code",
   "execution_count": 129,
   "metadata": {
    "collapsed": true
   },
   "outputs": [],
   "source": [
    "# driver.find_element_by_xpath('//*[@id=\"content\"]/div/div[2]/div[1]/div/table/tbody/tr[1]/td[1]/input[1]').click()\n",
    "content = driver.find_element_by_id('content')\n",
    "table = content.find_element_by_tag_name('table')\n",
    "check = table.find_element_by_xpath('//tr[{}]/td[1]/input[1]'.format(index))\n",
    "check.click()"
   ]
  },
  {
   "cell_type": "code",
   "execution_count": 13,
   "metadata": {
    "collapsed": true
   },
   "outputs": [],
   "source": [
    "save_path = 'C://Users//Jisung//workspace//suganghelper//screenshot/0729_154555.png'"
   ]
  },
  {
   "cell_type": "code",
   "execution_count": 14,
   "metadata": {},
   "outputs": [
    {
     "data": {
      "text/plain": [
       "(113, 50)"
      ]
     },
     "execution_count": 14,
     "metadata": {},
     "output_type": "execute_result"
    }
   ],
   "source": [
    "Image.open(save_path).size"
   ]
  },
  {
   "cell_type": "code",
   "execution_count": 15,
   "metadata": {},
   "outputs": [
    {
     "data": {
      "image/png": "[encoded data removed]",
      "text/plain": [
       "<PIL.PngImagePlugin.PngImageFile image mode=RGB size=113x50 at 0x1D8B6FB8CF8>"
      ]
     },
     "execution_count": 15,
     "metadata": {},
     "output_type": "execute_result"
    }
   ],
   "source": [
    "Image.open(save_path) #.resize((400, 200))"
   ]
  },
  {
   "cell_type": "code",
   "execution_count": 16,
   "metadata": {},
   "outputs": [
    {
     "data": {
      "text/plain": [
       "''"
      ]
     },
     "execution_count": 16,
     "metadata": {},
     "output_type": "execute_result"
    }
   ],
   "source": [
    "image_to_text(save_path)"
   ]
  },
  {
   "cell_type": "code",
   "execution_count": 17,
   "metadata": {},
   "outputs": [
    {
     "data": {
      "text/plain": [
       "''"
      ]
     },
     "execution_count": 17,
     "metadata": {},
     "output_type": "execute_result"
    }
   ],
   "source": [
    "pytesseract.image_to_string(Image.open(save_path).resize((1000, 500)))"
   ]
  },
  {
   "cell_type": "code",
   "execution_count": 136,
   "metadata": {
    "collapsed": true
   },
   "outputs": [],
   "source": [
    "text = image_to_text(save_path)\n",
    "driver.find_element_by_xpath('//*[@id=\"inputTextView\"]').send_keys(text)\n",
    "driver.find_element_by_xpath('//*[@id=\"content\"]/div/div[2]/div[2]/div[2]/a').click()"
   ]
  },
  {
   "cell_type": "code",
   "execution_count": 11,
   "metadata": {},
   "outputs": [
    {
     "ename": "ValueError",
     "evalue": "No tables found",
     "output_type": "error",
     "traceback": [
      "\u001b[0;31m---------------------------------------------------------------------------\u001b[0m",
      "\u001b[0;31mValueError\u001b[0m                                Traceback (most recent call last)",
      "\u001b[0;32m<ipython-input-11-43a2807f8cc2>\u001b[0m in \u001b[0;36m<module>\u001b[0;34m()\u001b[0m\n\u001b[1;32m      1\u001b[0m \u001b[0mdriver\u001b[0m\u001b[1;33m.\u001b[0m\u001b[0mget\u001b[0m\u001b[1;33m(\u001b[0m\u001b[1;34m'https://sugang.snu.ac.kr/sugang/cc/cc210.action'\u001b[0m\u001b[1;33m)\u001b[0m\u001b[1;33m\u001b[0m\u001b[0m\n\u001b[1;32m      2\u001b[0m \u001b[0mhtml\u001b[0m \u001b[1;33m=\u001b[0m \u001b[0mdriver\u001b[0m\u001b[1;33m.\u001b[0m\u001b[0mpage_source\u001b[0m\u001b[1;33m\u001b[0m\u001b[0m\n\u001b[0;32m----> 3\u001b[0;31m \u001b[0mdf_sugang\u001b[0m \u001b[1;33m=\u001b[0m \u001b[0mpd\u001b[0m\u001b[1;33m.\u001b[0m\u001b[0mread_html\u001b[0m\u001b[1;33m(\u001b[0m\u001b[0mhtml\u001b[0m\u001b[1;33m)\u001b[0m\u001b[1;33m[\u001b[0m\u001b[1;36m0\u001b[0m\u001b[1;33m]\u001b[0m\u001b[1;33m\u001b[0m\u001b[0m\n\u001b[0m\u001b[1;32m      4\u001b[0m \u001b[0mdf_sugang\u001b[0m \u001b[1;33m=\u001b[0m \u001b[0mdf_sugang\u001b[0m\u001b[1;33m[\u001b[0m\u001b[1;33m~\u001b[0m\u001b[0mdf_sugang\u001b[0m\u001b[1;33m.\u001b[0m\u001b[0mloc\u001b[0m\u001b[1;33m[\u001b[0m\u001b[1;33m:\u001b[0m\u001b[1;33m,\u001b[0m \u001b[0mdf_sugang\u001b[0m\u001b[1;33m.\u001b[0m\u001b[0mcolumns\u001b[0m\u001b[1;33m==\u001b[0m\u001b[1;34m'정원(재학생)'\u001b[0m\u001b[1;33m]\u001b[0m\u001b[1;33m.\u001b[0m\u001b[0misnull\u001b[0m\u001b[1;33m(\u001b[0m\u001b[1;33m)\u001b[0m\u001b[1;33m.\u001b[0m\u001b[0mvalues\u001b[0m\u001b[1;33m]\u001b[0m\u001b[1;33m\u001b[0m\u001b[0m\n",
      "\u001b[0;32mC:\\Users\\Jisung\\Anaconda3\\lib\\site-packages\\pandas\\io\\html.py\u001b[0m in \u001b[0;36mread_html\u001b[0;34m(io, match, flavor, header, index_col, skiprows, attrs, parse_dates, tupleize_cols, thousands, encoding, decimal, converters, na_values, keep_default_na)\u001b[0m\n\u001b[1;32m    894\u001b[0m                   \u001b[0mthousands\u001b[0m\u001b[1;33m=\u001b[0m\u001b[0mthousands\u001b[0m\u001b[1;33m,\u001b[0m \u001b[0mattrs\u001b[0m\u001b[1;33m=\u001b[0m\u001b[0mattrs\u001b[0m\u001b[1;33m,\u001b[0m \u001b[0mencoding\u001b[0m\u001b[1;33m=\u001b[0m\u001b[0mencoding\u001b[0m\u001b[1;33m,\u001b[0m\u001b[1;33m\u001b[0m\u001b[0m\n\u001b[1;32m    895\u001b[0m                   \u001b[0mdecimal\u001b[0m\u001b[1;33m=\u001b[0m\u001b[0mdecimal\u001b[0m\u001b[1;33m,\u001b[0m \u001b[0mconverters\u001b[0m\u001b[1;33m=\u001b[0m\u001b[0mconverters\u001b[0m\u001b[1;33m,\u001b[0m \u001b[0mna_values\u001b[0m\u001b[1;33m=\u001b[0m\u001b[0mna_values\u001b[0m\u001b[1;33m,\u001b[0m\u001b[1;33m\u001b[0m\u001b[0m\n\u001b[0;32m--> 896\u001b[0;31m                   keep_default_na=keep_default_na)\n\u001b[0m",
      "\u001b[0;32mC:\\Users\\Jisung\\Anaconda3\\lib\\site-packages\\pandas\\io\\html.py\u001b[0m in \u001b[0;36m_parse\u001b[0;34m(flavor, io, match, attrs, encoding, **kwargs)\u001b[0m\n\u001b[1;32m    731\u001b[0m             \u001b[1;32mbreak\u001b[0m\u001b[1;33m\u001b[0m\u001b[0m\n\u001b[1;32m    732\u001b[0m     \u001b[1;32melse\u001b[0m\u001b[1;33m:\u001b[0m\u001b[1;33m\u001b[0m\u001b[0m\n\u001b[0;32m--> 733\u001b[0;31m         \u001b[0mraise_with_traceback\u001b[0m\u001b[1;33m(\u001b[0m\u001b[0mretained\u001b[0m\u001b[1;33m)\u001b[0m\u001b[1;33m\u001b[0m\u001b[0m\n\u001b[0m\u001b[1;32m    734\u001b[0m \u001b[1;33m\u001b[0m\u001b[0m\n\u001b[1;32m    735\u001b[0m     \u001b[0mret\u001b[0m \u001b[1;33m=\u001b[0m \u001b[1;33m[\u001b[0m\u001b[1;33m]\u001b[0m\u001b[1;33m\u001b[0m\u001b[0m\n",
      "\u001b[0;32mC:\\Users\\Jisung\\Anaconda3\\lib\\site-packages\\pandas\\compat\\__init__.py\u001b[0m in \u001b[0;36mraise_with_traceback\u001b[0;34m(exc, traceback)\u001b[0m\n\u001b[1;32m    338\u001b[0m         \u001b[1;32mif\u001b[0m \u001b[0mtraceback\u001b[0m \u001b[1;33m==\u001b[0m \u001b[0mEllipsis\u001b[0m\u001b[1;33m:\u001b[0m\u001b[1;33m\u001b[0m\u001b[0m\n\u001b[1;32m    339\u001b[0m             \u001b[0m_\u001b[0m\u001b[1;33m,\u001b[0m \u001b[0m_\u001b[0m\u001b[1;33m,\u001b[0m \u001b[0mtraceback\u001b[0m \u001b[1;33m=\u001b[0m \u001b[0msys\u001b[0m\u001b[1;33m.\u001b[0m\u001b[0mexc_info\u001b[0m\u001b[1;33m(\u001b[0m\u001b[1;33m)\u001b[0m\u001b[1;33m\u001b[0m\u001b[0m\n\u001b[0;32m--> 340\u001b[0;31m         \u001b[1;32mraise\u001b[0m \u001b[0mexc\u001b[0m\u001b[1;33m.\u001b[0m\u001b[0mwith_traceback\u001b[0m\u001b[1;33m(\u001b[0m\u001b[0mtraceback\u001b[0m\u001b[1;33m)\u001b[0m\u001b[1;33m\u001b[0m\u001b[0m\n\u001b[0m\u001b[1;32m    341\u001b[0m \u001b[1;32melse\u001b[0m\u001b[1;33m:\u001b[0m\u001b[1;33m\u001b[0m\u001b[0m\n\u001b[1;32m    342\u001b[0m     \u001b[1;31m# this version of raise is a syntax error in Python 3\u001b[0m\u001b[1;33m\u001b[0m\u001b[1;33m\u001b[0m\u001b[0m\n",
      "\u001b[0;31mValueError\u001b[0m: No tables found"
     ]
    }
   ],
   "source": [
    "driver.get('https://sugang.snu.ac.kr/sugang/cc/cc210.action')\n",
    "html = driver.page_source\n",
    "df_sugang = pd.read_html(html)[0]\n",
    "df_sugang = df_sugang[~df_sugang.loc[:, df_sugang.columns=='정원(재학생)'].isnull().values]"
   ]
  },
  {
   "cell_type": "code",
   "execution_count": 138,
   "metadata": {},
   "outputs": [
    {
     "data": {
      "text/html": [
       "<div>\n",
       "<table border=\"1\" class=\"dataframe\">\n",
       "  <thead>\n",
       "    <tr style=\"text-align: right;\">\n",
       "      <th></th>\n",
       "      <th>선택</th>\n",
       "      <th>교과구분</th>\n",
       "      <th>개설대학</th>\n",
       "      <th>개설학과</th>\n",
       "      <th>학년</th>\n",
       "      <th>교과목번호</th>\n",
       "      <th>강좌번호</th>\n",
       "      <th>교과목명(부제명)</th>\n",
       "      <th>학점-강의-실습</th>\n",
       "      <th>수업교시</th>\n",
       "      <th>수업형태</th>\n",
       "      <th>강의실(동-호)(#연건,*평창)</th>\n",
       "      <th>주담당교수</th>\n",
       "      <th>정원(재학생)</th>\n",
       "      <th>수강신청인원</th>\n",
       "      <th>비고</th>\n",
       "    </tr>\n",
       "  </thead>\n",
       "  <tbody>\n",
       "    <tr>\n",
       "      <th>0</th>\n",
       "      <td>NaN</td>\n",
       "      <td>교양</td>\n",
       "      <td>사범대학</td>\n",
       "      <td>체육교육과</td>\n",
       "      <td>1학년</td>\n",
       "      <td>051.017</td>\n",
       "      <td>1.0</td>\n",
       "      <td>호신술</td>\n",
       "      <td>1-0-2</td>\n",
       "      <td>월(09:00~10:50)</td>\n",
       "      <td>실기</td>\n",
       "      <td>NaN</td>\n",
       "      <td>김용세</td>\n",
       "      <td>30 (30)</td>\n",
       "      <td>30.0</td>\n",
       "      <td>71동 3층 태권도장</td>\n",
       "    </tr>\n",
       "    <tr>\n",
       "      <th>1</th>\n",
       "      <td>NaN</td>\n",
       "      <td>교양</td>\n",
       "      <td>사범대학</td>\n",
       "      <td>체육교육과</td>\n",
       "      <td>1학년</td>\n",
       "      <td>051.017</td>\n",
       "      <td>2.0</td>\n",
       "      <td>호신술</td>\n",
       "      <td>1-0-2</td>\n",
       "      <td>금(09:00~10:50)</td>\n",
       "      <td>실기</td>\n",
       "      <td>NaN</td>\n",
       "      <td>김은정</td>\n",
       "      <td>30 (30)</td>\n",
       "      <td>30.0</td>\n",
       "      <td>71동 3층 태권도장</td>\n",
       "    </tr>\n",
       "    <tr>\n",
       "      <th>2</th>\n",
       "      <td>NaN</td>\n",
       "      <td>교양</td>\n",
       "      <td>사범대학</td>\n",
       "      <td>체육교육과</td>\n",
       "      <td>1학년</td>\n",
       "      <td>051.017</td>\n",
       "      <td>3.0</td>\n",
       "      <td>호신술</td>\n",
       "      <td>1-0-2</td>\n",
       "      <td>금(11:00~12:50)</td>\n",
       "      <td>실기</td>\n",
       "      <td>NaN</td>\n",
       "      <td>김은정</td>\n",
       "      <td>30 (30)</td>\n",
       "      <td>30.0</td>\n",
       "      <td>71동 3층 태권도장</td>\n",
       "    </tr>\n",
       "    <tr>\n",
       "      <th>3</th>\n",
       "      <td>NaN</td>\n",
       "      <td>전선</td>\n",
       "      <td>자연과학대학</td>\n",
       "      <td>통계학과</td>\n",
       "      <td>0학년</td>\n",
       "      <td>326.725A</td>\n",
       "      <td>1.0</td>\n",
       "      <td>고급시계열분석</td>\n",
       "      <td>3-3-0</td>\n",
       "      <td>금(13:00~15:50)</td>\n",
       "      <td>이론</td>\n",
       "      <td>025-405</td>\n",
       "      <td>오해준</td>\n",
       "      <td>40 (40)</td>\n",
       "      <td>8.0</td>\n",
       "      <td>NaN</td>\n",
       "    </tr>\n",
       "    <tr>\n",
       "      <th>4</th>\n",
       "      <td>NaN</td>\n",
       "      <td>전선</td>\n",
       "      <td>자연과학대학</td>\n",
       "      <td>수리과학부</td>\n",
       "      <td>3학년</td>\n",
       "      <td>3341.362</td>\n",
       "      <td>1.0</td>\n",
       "      <td>고속 프로그래밍 방법 및 실습</td>\n",
       "      <td>3-2-2</td>\n",
       "      <td>월(13:00~14:50)</td>\n",
       "      <td>이론</td>\n",
       "      <td>024-113</td>\n",
       "      <td>이병준</td>\n",
       "      <td>40 (40)</td>\n",
       "      <td>40.0</td>\n",
       "      <td>초안지는 http://www.math.snu.ac.kr/board/portal 참조</td>\n",
       "    </tr>\n",
       "  </tbody>\n",
       "</table>\n",
       "</div>"
      ],
      "text/plain": [
       "    선택 교과구분    개설대학   개설학과   학년     교과목번호  강좌번호         교과목명(부제명) 학점-강의-실습  \\\n",
       "0  NaN   교양    사범대학  체육교육과  1학년   051.017   1.0               호신술    1-0-2   \n",
       "1  NaN   교양    사범대학  체육교육과  1학년   051.017   2.0               호신술    1-0-2   \n",
       "2  NaN   교양    사범대학  체육교육과  1학년   051.017   3.0               호신술    1-0-2   \n",
       "3  NaN   전선  자연과학대학   통계학과  0학년  326.725A   1.0           고급시계열분석    3-3-0   \n",
       "4  NaN   전선  자연과학대학  수리과학부  3학년  3341.362   1.0  고속 프로그래밍 방법 및 실습    3-2-2   \n",
       "\n",
       "             수업교시 수업형태 강의실(동-호)(#연건,*평창) 주담당교수  정원(재학생)  수강신청인원  \\\n",
       "0  월(09:00~10:50)   실기               NaN   김용세  30 (30)    30.0   \n",
       "1  금(09:00~10:50)   실기               NaN   김은정  30 (30)    30.0   \n",
       "2  금(11:00~12:50)   실기               NaN   김은정  30 (30)    30.0   \n",
       "3  금(13:00~15:50)   이론           025-405   오해준  40 (40)     8.0   \n",
       "4  월(13:00~14:50)   이론           024-113   이병준  40 (40)    40.0   \n",
       "\n",
       "                                               비고  \n",
       "0                                     71동 3층 태권도장  \n",
       "1                                     71동 3층 태권도장  \n",
       "2                                     71동 3층 태권도장  \n",
       "3                                             NaN  \n",
       "4  초안지는 http://www.math.snu.ac.kr/board/portal 참조  "
      ]
     },
     "execution_count": 138,
     "metadata": {},
     "output_type": "execute_result"
    }
   ],
   "source": [
    "df_sugang.head(5)"
   ]
  },
  {
   "cell_type": "code",
   "execution_count": 173,
   "metadata": {},
   "outputs": [
    {
     "data": {
      "text/plain": [
       "['100', '(100)']"
      ]
     },
     "execution_count": 173,
     "metadata": {},
     "output_type": "execute_result"
    }
   ],
   "source": [
    "values['정원(재학생)'].split()"
   ]
  },
  {
   "cell_type": "code",
   "execution_count": 166,
   "metadata": {
    "collapsed": true
   },
   "outputs": [],
   "source": [
    "for idx, values in df_sugang.iterrows():\n",
    "    full = values['정원(재학생)'].split()[0]\n",
    "    current = values['수강신청인원']\n",
    "    if full > current and values['교과목명(부제명)'] in classes:\n",
    "        enroll_in_class(values['교과목명(부제명)'])\n"
   ]
  },
  {
   "cell_type": "code",
   "execution_count": 152,
   "metadata": {},
   "outputs": [
    {
     "data": {
      "text/plain": [
       "교과목명(부제명)\n",
       "호신술                   30.0\n",
       "호신술                   30.0\n",
       "호신술                   30.0\n",
       "고급시계열분석                8.0\n",
       "고속 프로그래밍 방법 및 실습      40.0\n",
       "수리확률론특강(기계학습/인공지능)    40.0\n",
       "기계학습 산업응용             30.0\n",
       "컴퓨터프로그래밍              64.0\n",
       "Name: 수강신청인원, dtype: float64"
      ]
     },
     "execution_count": 152,
     "metadata": {},
     "output_type": "execute_result"
    }
   ],
   "source": [
    "df_sugang['수강신청인원']"
   ]
  },
  {
   "cell_type": "code",
   "execution_count": 9,
   "metadata": {},
   "outputs": [],
   "source": [
    "# driver = webdriver.Ie(os.path.join(path, 'IEDriverServer.exe'))\n",
    "# driver = webdriver.Chrome(executable_path=os.path.join(path, 'chromedriver.exe'))\n",
    "\n",
    "driver = webdriver.Firefox(executable_path=os.path.join(path, 'geckodriver.exe'))\n",
    "\n",
    "driver.get('http://sugang.snu.ac.kr')\n",
    "driver.switch_to.frame(driver.find_elements_by_tag_name(\"iframe\")[0])\n",
    "\n",
    "driver.implicitly_wait(3)\n",
    "driver.find_element_by_id('j_username').send_keys(HAKBUN)\n",
    "driver.implicitly_wait(1)\n",
    "driver.find_element_by_id('t_password').send_keys(PASSWORD)\n",
    "driver.find_element_by_xpath('//*[@id=\"CO010\"]/div/div/p[3]/a').click()\n",
    "\n",
    "driver.get('https://sugang.snu.ac.kr/sugang/cc/cc210.action')"
   ]
  },
  {
   "cell_type": "markdown",
   "metadata": {},
   "source": [
    "### Check if my classes are enrolled"
   ]
  },
  {
   "cell_type": "code",
   "execution_count": 10,
   "metadata": {
    "collapsed": true
   },
   "outputs": [],
   "source": [
    "driver.get('https://sugang.snu.ac.kr/sugang/ca/ca110.action')"
   ]
  },
  {
   "cell_type": "code",
   "execution_count": 12,
   "metadata": {},
   "outputs": [],
   "source": [
    "df_enrolled = pd.read_html(driver.page_source)[0]"
   ]
  },
  {
   "cell_type": "code",
   "execution_count": 14,
   "metadata": {},
   "outputs": [
    {
     "data": {
      "text/plain": [
       "0   NaN\n",
       "1   NaN\n",
       "2   NaN\n",
       "3   NaN\n",
       "4   NaN\n",
       "5   NaN\n",
       "6   NaN\n",
       "7   NaN\n",
       "8   NaN\n",
       "9   NaN\n",
       "Name: 교과목명(부제명), dtype: float64"
      ]
     },
     "execution_count": 14,
     "metadata": {},
     "output_type": "execute_result"
    }
   ],
   "source": [
    "df_enrolled['교과목명(부제명)']"
   ]
  },
  {
   "cell_type": "code",
   "execution_count": 48,
   "metadata": {},
   "outputs": [],
   "source": [
    "a = np.array([1,2,3,4,5,6,np.NAN])"
   ]
  },
  {
   "cell_type": "code",
   "execution_count": 52,
   "metadata": {
    "collapsed": true
   },
   "outputs": [],
   "source": [
    "b = np.array([0])"
   ]
  },
  {
   "cell_type": "code",
   "execution_count": 51,
   "metadata": {},
   "outputs": [
    {
     "data": {
      "text/plain": [
       "[4.0, 5.0, 6.0, nan]"
      ]
     },
     "execution_count": 51,
     "metadata": {},
     "output_type": "execute_result"
    }
   ],
   "source": [
    "[k for k in a if k not in b]"
   ]
  },
  {
   "cell_type": "code",
   "execution_count": 55,
   "metadata": {},
   "outputs": [
    {
     "data": {
      "text/plain": [
       "array([], dtype=float64)"
      ]
     },
     "execution_count": 55,
     "metadata": {},
     "output_type": "execute_result"
    }
   ],
   "source": [
    "np.intersect1d(a, b)"
   ]
  },
  {
   "cell_type": "code",
   "execution_count": 61,
   "metadata": {},
   "outputs": [
    {
     "data": {
      "text/plain": [
       "'C:\\\\Users\\\\Jisung\\\\workspace\\\\suganghelper'"
      ]
     },
     "execution_count": 61,
     "metadata": {},
     "output_type": "execute_result"
    }
   ],
   "source": [
    "os.path.abspath('./')"
   ]
  },
  {
   "cell_type": "code",
   "execution_count": 66,
   "metadata": {},
   "outputs": [
    {
     "name": "stdout",
     "output_type": "stream",
     "text": [
      "1\n"
     ]
    }
   ],
   "source": [
    "if os.path.exists('screenshot/'):\n",
    "    print(1)"
   ]
  },
  {
   "cell_type": "code",
   "execution_count": 62,
   "metadata": {},
   "outputs": [
    {
     "name": "stdout",
     "output_type": "stream",
     "text": [
      "123123\n"
     ]
    }
   ],
   "source": [
    "if os.path.exists(os.path.join(os.path.abspath('./'), 'screenshot/')):\n",
    "    print(123123)"
   ]
  },
  {
   "cell_type": "code",
   "execution_count": 68,
   "metadata": {
    "collapsed": true
   },
   "outputs": [],
   "source": [
    "os.mkdir?"
   ]
  },
  {
   "cell_type": "code",
   "execution_count": 67,
   "metadata": {
    "collapsed": true
   },
   "outputs": [],
   "source": [
    "os.makedirs?"
   ]
  },
  {
   "cell_type": "code",
   "execution_count": null,
   "metadata": {
    "collapsed": true
   },
   "outputs": [],
   "source": [
    "for enrolled in df_enrolled['교과목명(부제명)']:"
   ]
  },
  {
   "cell_type": "markdown",
   "metadata": {},
   "source": [
    "Image ? "
   ]
  },
  {
   "cell_type": "code",
   "execution_count": 22,
   "metadata": {
    "collapsed": true
   },
   "outputs": [],
   "source": [
    "image = driver.find_element_by_id('imageText')"
   ]
  },
  {
   "cell_type": "code",
   "execution_count": 23,
   "metadata": {},
   "outputs": [
    {
     "data": {
      "text/plain": [
       "True"
      ]
     },
     "execution_count": 23,
     "metadata": {},
     "output_type": "execute_result"
    }
   ],
   "source": [
    "image.screenshot('iaaaaa.png')"
   ]
  },
  {
   "cell_type": "code",
   "execution_count": 30,
   "metadata": {
    "collapsed": true
   },
   "outputs": [],
   "source": [
    "save_path = os.path.join(path, 'screenshot/',\n",
    "                        datetime.datetime.now().strftime('%m%d_%H%M%S.tif'))"
   ]
  },
  {
   "cell_type": "code",
   "execution_count": 31,
   "metadata": {
    "collapsed": true
   },
   "outputs": [],
   "source": [
    "im.save(save_path, dpi=(600,600))"
   ]
  },
  {
   "cell_type": "code",
   "execution_count": 31,
   "metadata": {},
   "outputs": [
    {
     "data": {
      "image/png": "[encoded data removed]",
      "text/plain": [
       "<PIL.PngImagePlugin.PngImageFile image mode=RGB size=113x50 at 0x2D4D15C4198>"
      ]
     },
     "execution_count": 31,
     "metadata": {},
     "output_type": "execute_result"
    }
   ],
   "source": [
    "Image.open(save_path)"
   ]
  },
  {
   "cell_type": "code",
   "execution_count": 33,
   "metadata": {},
   "outputs": [
    {
     "data": {
      "image/png": "[encoded data removed]",
      "text/plain": [
       "<PIL.Image.Image image mode=RGB size=400x200 at 0x1EDC2585358>"
      ]
     },
     "execution_count": 33,
     "metadata": {},
     "output_type": "execute_result"
    }
   ],
   "source": [
    "im.resize((400, 200))"
   ]
  },
  {
   "cell_type": "code",
   "execution_count": 32,
   "metadata": {},
   "outputs": [
    {
     "ename": "NameError",
     "evalue": "name 'im' is not defined",
     "output_type": "error",
     "traceback": [
      "\u001b[0;31m---------------------------------------------------------------------------\u001b[0m",
      "\u001b[0;31mNameError\u001b[0m                                 Traceback (most recent call last)",
      "\u001b[0;32m<ipython-input-32-f5fe2b0aed09>\u001b[0m in \u001b[0;36m<module>\u001b[0;34m()\u001b[0m\n\u001b[0;32m----> 1\u001b[0;31m \u001b[0mpytesseract\u001b[0m\u001b[1;33m.\u001b[0m\u001b[0mimage_to_string\u001b[0m\u001b[1;33m(\u001b[0m\u001b[0mim\u001b[0m\u001b[1;33m)\u001b[0m\u001b[1;33m\u001b[0m\u001b[0m\n\u001b[0m",
      "\u001b[0;31mNameError\u001b[0m: name 'im' is not defined"
     ]
    }
   ],
   "source": [
    "pytesseract.image_to_string(im)"
   ]
  },
  {
   "cell_type": "code",
   "execution_count": 33,
   "metadata": {},
   "outputs": [
    {
     "ename": "NameError",
     "evalue": "name 'im' is not defined",
     "output_type": "error",
     "traceback": [
      "\u001b[0;31m---------------------------------------------------------------------------\u001b[0m",
      "\u001b[0;31mNameError\u001b[0m                                 Traceback (most recent call last)",
      "\u001b[0;32m<ipython-input-33-a6a92423a3e2>\u001b[0m in \u001b[0;36m<module>\u001b[0;34m()\u001b[0m\n\u001b[0;32m----> 1\u001b[0;31m \u001b[0mpytesseract\u001b[0m\u001b[1;33m.\u001b[0m\u001b[0mimage_to_string\u001b[0m\u001b[1;33m(\u001b[0m\u001b[0mim\u001b[0m\u001b[1;33m.\u001b[0m\u001b[0mresize\u001b[0m\u001b[1;33m(\u001b[0m\u001b[1;33m(\u001b[0m\u001b[1;36m300\u001b[0m\u001b[1;33m,\u001b[0m \u001b[1;36m200\u001b[0m\u001b[1;33m)\u001b[0m\u001b[1;33m)\u001b[0m\u001b[1;33m)\u001b[0m\u001b[1;33m\u001b[0m\u001b[0m\n\u001b[0m",
      "\u001b[0;31mNameError\u001b[0m: name 'im' is not defined"
     ]
    }
   ],
   "source": [
    "pytesseract.image_to_string(im.resize((300, 200)))"
   ]
  },
  {
   "cell_type": "code",
   "execution_count": 40,
   "metadata": {},
   "outputs": [
    {
     "data": {
      "image/png": "[encoded data removed]",
      "text/plain": [
       "<PIL.PngImagePlugin.PngImageFile image mode=RGB size=113x50 at 0x1EDC25850F0>"
      ]
     },
     "execution_count": 40,
     "metadata": {},
     "output_type": "execute_result"
    }
   ],
   "source": [
    "im"
   ]
  },
  {
   "cell_type": "code",
   "execution_count": 90,
   "metadata": {
    "collapsed": true
   },
   "outputs": [],
   "source": [
    "im = Image.open('./screenshot/0728_172358.png')"
   ]
  },
  {
   "cell_type": "code",
   "execution_count": 49,
   "metadata": {
    "collapsed": true
   },
   "outputs": [],
   "source": [
    "im = im.filter(ImageFilter.MedianFilter())\n",
    "enhancer = ImageEnhance.Contrast(im)"
   ]
  },
  {
   "cell_type": "code",
   "execution_count": 61,
   "metadata": {
    "collapsed": true
   },
   "outputs": [],
   "source": [
    "im = enhancer.enhance(10)"
   ]
  },
  {
   "cell_type": "code",
   "execution_count": 67,
   "metadata": {
    "collapsed": true
   },
   "outputs": [],
   "source": [
    "a = pytesseract.image_to_string(im)"
   ]
  },
  {
   "cell_type": "code",
   "execution_count": 69,
   "metadata": {},
   "outputs": [
    {
     "data": {
      "text/plain": [
       "'34'"
      ]
     },
     "execution_count": 69,
     "metadata": {},
     "output_type": "execute_result"
    }
   ],
   "source": [
    "\"\".join(a.split())"
   ]
  },
  {
   "cell_type": "markdown",
   "metadata": {},
   "source": [
    "### Image to binary"
   ]
  },
  {
   "cell_type": "code",
   "execution_count": 99,
   "metadata": {},
   "outputs": [
    {
     "name": "stdout",
     "output_type": "stream",
     "text": [
      "\n"
     ]
    }
   ],
   "source": [
    "# im = Image.open(im) # the second one \n",
    "im = im.filter(ImageFilter.MedianFilter())\n",
    "enhancer = ImageEnhance.Contrast(im)\n",
    "im = enhancer.enhance(10)\n",
    "# im = im.convert('1')\n",
    "im.save('screenshot/temp2.jpg')\n",
    "text = pytesseract.image_to_string(Image.open('screenshot/temp2.jpg'), config='outputbase digits')\n",
    "print(text)"
   ]
  },
  {
   "cell_type": "code",
   "execution_count": 100,
   "metadata": {},
   "outputs": [
    {
     "data": {
      "image/png": "[encoded data removed]",
      "text/plain": [
       "<PIL.Image.Image image mode=RGB size=113x50 at 0x1EDC280BE80>"
      ]
     },
     "execution_count": 100,
     "metadata": {},
     "output_type": "execute_result"
    }
   ],
   "source": [
    "im"
   ]
  },
  {
   "cell_type": "markdown",
   "metadata": {},
   "source": [
    "## Refresh"
   ]
  },
  {
   "cell_type": "code",
   "execution_count": 27,
   "metadata": {
    "collapsed": true
   },
   "outputs": [],
   "source": [
    "driver.get('https://sugang.snu.ac.kr/sugang/cc/cc210.action')\n",
    "\n",
    "im = ImageGrab.grab(bbox=(x1, y1, x2, y2))"
   ]
  },
  {
   "cell_type": "markdown",
   "metadata": {},
   "source": [
    "### Save to png file"
   ]
  },
  {
   "cell_type": "code",
   "execution_count": 123,
   "metadata": {
    "collapsed": true
   },
   "outputs": [],
   "source": [
    "save_path = os.path.join(path, 'screenshot/',\n",
    "                        datetime.datetime.now().strftime('%m%d_%H%M%S.png'))\n",
    "im.save(save_path, dpi=(300, 300))"
   ]
  },
  {
   "cell_type": "markdown",
   "metadata": {},
   "source": [
    "### Parse table from source"
   ]
  },
  {
   "cell_type": "code",
   "execution_count": 18,
   "metadata": {
    "collapsed": true
   },
   "outputs": [],
   "source": [
    "html = driver.page_source\n",
    "soup = BeautifulSoup(html, 'html.parser')"
   ]
  },
  {
   "cell_type": "code",
   "execution_count": 31,
   "metadata": {
    "collapsed": true
   },
   "outputs": [],
   "source": [
    "# tbl_basic = soup.find(\"table\", {\"class\":\"tbl_basic\"})"
   ]
  },
  {
   "cell_type": "code",
   "execution_count": 35,
   "metadata": {
    "collapsed": true
   },
   "outputs": [],
   "source": [
    "data = pd.read_html(html)"
   ]
  },
  {
   "cell_type": "code",
   "execution_count": 42,
   "metadata": {
    "collapsed": true
   },
   "outputs": [],
   "source": [
    "df_sugang = data[0]"
   ]
  },
  {
   "cell_type": "code",
   "execution_count": 44,
   "metadata": {},
   "outputs": [
    {
     "data": {
      "text/html": [
       "<div>\n",
       "<table border=\"1\" class=\"dataframe\">\n",
       "  <thead>\n",
       "    <tr style=\"text-align: right;\">\n",
       "      <th></th>\n",
       "      <th>선택</th>\n",
       "      <th>교과구분</th>\n",
       "      <th>개설대학</th>\n",
       "      <th>개설학과</th>\n",
       "      <th>학년</th>\n",
       "      <th>교과목번호</th>\n",
       "      <th>강좌번호</th>\n",
       "      <th>교과목명(부제명)</th>\n",
       "      <th>학점-강의-실습</th>\n",
       "      <th>수업교시</th>\n",
       "      <th>수업형태</th>\n",
       "      <th>강의실(동-호)(#연건,*평창)</th>\n",
       "      <th>주담당교수</th>\n",
       "      <th>정원(재학생)</th>\n",
       "      <th>수강신청인원</th>\n",
       "      <th>비고</th>\n",
       "    </tr>\n",
       "  </thead>\n",
       "  <tbody>\n",
       "    <tr>\n",
       "      <th>0</th>\n",
       "      <td>NaN</td>\n",
       "      <td>교양</td>\n",
       "      <td>사범대학</td>\n",
       "      <td>체육교육과</td>\n",
       "      <td>1학년</td>\n",
       "      <td>051.017</td>\n",
       "      <td>1.0</td>\n",
       "      <td>호신술</td>\n",
       "      <td>1-0-2</td>\n",
       "      <td>월(09:00~10:50)</td>\n",
       "      <td>실기</td>\n",
       "      <td>NaN</td>\n",
       "      <td>김용세</td>\n",
       "      <td>30 (30)</td>\n",
       "      <td>30.0</td>\n",
       "      <td>71동 3층 태권도장</td>\n",
       "    </tr>\n",
       "    <tr>\n",
       "      <th>1</th>\n",
       "      <td>NaN</td>\n",
       "      <td>교양</td>\n",
       "      <td>사범대학</td>\n",
       "      <td>체육교육과</td>\n",
       "      <td>1학년</td>\n",
       "      <td>051.017</td>\n",
       "      <td>2.0</td>\n",
       "      <td>호신술</td>\n",
       "      <td>1-0-2</td>\n",
       "      <td>금(09:00~10:50)</td>\n",
       "      <td>실기</td>\n",
       "      <td>NaN</td>\n",
       "      <td>김은정</td>\n",
       "      <td>30 (30)</td>\n",
       "      <td>30.0</td>\n",
       "      <td>71동 3층 태권도장</td>\n",
       "    </tr>\n",
       "    <tr>\n",
       "      <th>2</th>\n",
       "      <td>NaN</td>\n",
       "      <td>교양</td>\n",
       "      <td>사범대학</td>\n",
       "      <td>체육교육과</td>\n",
       "      <td>1학년</td>\n",
       "      <td>051.017</td>\n",
       "      <td>3.0</td>\n",
       "      <td>호신술</td>\n",
       "      <td>1-0-2</td>\n",
       "      <td>금(11:00~12:50)</td>\n",
       "      <td>실기</td>\n",
       "      <td>NaN</td>\n",
       "      <td>김은정</td>\n",
       "      <td>30 (30)</td>\n",
       "      <td>30.0</td>\n",
       "      <td>71동 3층 태권도장</td>\n",
       "    </tr>\n",
       "    <tr>\n",
       "      <th>3</th>\n",
       "      <td>NaN</td>\n",
       "      <td>전선</td>\n",
       "      <td>자연과학대학</td>\n",
       "      <td>통계학과</td>\n",
       "      <td>0학년</td>\n",
       "      <td>326.725A</td>\n",
       "      <td>1.0</td>\n",
       "      <td>고급시계열분석</td>\n",
       "      <td>3-3-0</td>\n",
       "      <td>금(13:00~15:50)</td>\n",
       "      <td>이론</td>\n",
       "      <td>025-405</td>\n",
       "      <td>오해준</td>\n",
       "      <td>40 (40)</td>\n",
       "      <td>8.0</td>\n",
       "      <td>NaN</td>\n",
       "    </tr>\n",
       "    <tr>\n",
       "      <th>4</th>\n",
       "      <td>NaN</td>\n",
       "      <td>전선</td>\n",
       "      <td>자연과학대학</td>\n",
       "      <td>수리과학부</td>\n",
       "      <td>3학년</td>\n",
       "      <td>3341.362</td>\n",
       "      <td>1.0</td>\n",
       "      <td>고속 프로그래밍 방법 및 실습</td>\n",
       "      <td>3-2-2</td>\n",
       "      <td>월(13:00~14:50)</td>\n",
       "      <td>이론</td>\n",
       "      <td>024-113</td>\n",
       "      <td>이병준</td>\n",
       "      <td>40 (40)</td>\n",
       "      <td>40.0</td>\n",
       "      <td>초안지는 http://www.math.snu.ac.kr/board/portal 참조</td>\n",
       "    </tr>\n",
       "  </tbody>\n",
       "</table>\n",
       "</div>"
      ],
      "text/plain": [
       "    선택 교과구분    개설대학   개설학과   학년     교과목번호  강좌번호         교과목명(부제명) 학점-강의-실습  \\\n",
       "0  NaN   교양    사범대학  체육교육과  1학년   051.017   1.0               호신술    1-0-2   \n",
       "1  NaN   교양    사범대학  체육교육과  1학년   051.017   2.0               호신술    1-0-2   \n",
       "2  NaN   교양    사범대학  체육교육과  1학년   051.017   3.0               호신술    1-0-2   \n",
       "3  NaN   전선  자연과학대학   통계학과  0학년  326.725A   1.0           고급시계열분석    3-3-0   \n",
       "4  NaN   전선  자연과학대학  수리과학부  3학년  3341.362   1.0  고속 프로그래밍 방법 및 실습    3-2-2   \n",
       "\n",
       "             수업교시 수업형태 강의실(동-호)(#연건,*평창) 주담당교수  정원(재학생)  수강신청인원  \\\n",
       "0  월(09:00~10:50)   실기               NaN   김용세  30 (30)    30.0   \n",
       "1  금(09:00~10:50)   실기               NaN   김은정  30 (30)    30.0   \n",
       "2  금(11:00~12:50)   실기               NaN   김은정  30 (30)    30.0   \n",
       "3  금(13:00~15:50)   이론           025-405   오해준  40 (40)     8.0   \n",
       "4  월(13:00~14:50)   이론           024-113   이병준  40 (40)    40.0   \n",
       "\n",
       "                                               비고  \n",
       "0                                     71동 3층 태권도장  \n",
       "1                                     71동 3층 태권도장  \n",
       "2                                     71동 3층 태권도장  \n",
       "3                                             NaN  \n",
       "4  초안지는 http://www.math.snu.ac.kr/board/portal 참조  "
      ]
     },
     "execution_count": 44,
     "metadata": {},
     "output_type": "execute_result"
    }
   ],
   "source": [
    "df_sugang.head(5)"
   ]
  },
  {
   "cell_type": "code",
   "execution_count": 13,
   "metadata": {},
   "outputs": [
    {
     "name": "stdout",
     "output_type": "stream",
     "text": [
      "{'x': 419, 'y': 613}\n"
     ]
    }
   ],
   "source": [
    "from ctypes import windll, Structure, c_long, byref\n",
    "\n",
    "\n",
    "class POINT(Structure):\n",
    "    _fields_ = [(\"x\", c_long), (\"y\", c_long)]\n",
    "\n",
    "\n",
    "\n",
    "def queryMousePosition():\n",
    "    pt = POINT()\n",
    "    windll.user32.GetCursorPos(byref(pt))\n",
    "    return { \"x\": pt.x, \"y\": pt.y}\n",
    "\n",
    "\n",
    "pos = queryMousePosition()\n",
    "print(pos)"
   ]
  },
  {
   "cell_type": "code",
   "execution_count": 12,
   "metadata": {
    "collapsed": true
   },
   "outputs": [],
   "source": [
    "x1, y1 = 875, 1266\n",
    "x2, y2 = 988, 1316 "
   ]
  },
  {
   "cell_type": "code",
   "execution_count": null,
   "metadata": {
    "collapsed": true
   },
   "outputs": [],
   "source": []
  },
  {
   "cell_type": "code",
   "execution_count": null,
   "metadata": {
    "collapsed": true
   },
   "outputs": [],
   "source": []
  },
  {
   "cell_type": "code",
   "execution_count": null,
   "metadata": {
    "collapsed": true
   },
   "outputs": [],
   "source": []
  },
  {
   "cell_type": "code",
   "execution_count": null,
   "metadata": {
    "collapsed": true
   },
   "outputs": [],
   "source": []
  },
  {
   "cell_type": "code",
   "execution_count": null,
   "metadata": {
    "collapsed": true
   },
   "outputs": [],
   "source": []
  },
  {
   "cell_type": "code",
   "execution_count": null,
   "metadata": {
    "collapsed": true
   },
   "outputs": [],
   "source": [
    "# pwd = WebDriverWait(driver, 10).until(lambda x: x.find_element_by_id(\"t_password\"))\n",
    "\n",
    "# pwd = WebDriverWait(driver, 1).until(\n",
    "#     EC.visibility_of_element_located((By.ID, \"t_password\")))\n",
    "# pwd.send_keys(PASSWORD)\n",
    "# try:\n",
    "# #     driver.find_element_by_id('v_password').click()\n",
    "# #     driver.find_element_by_id('t_password').click()\n",
    "#     driver.implicitly_wait(1)\n",
    "#     driver.find_element_by_id('t_password').send_keys(PASSWORD)\n",
    "    \n",
    "# except WebDriverException:\n",
    "#     driver.implicitly_wait(1)\n",
    "#     pwd = WebDriverWait(driver, 1).until(\n",
    "#         EC.visibility_of_element_located(\n",
    "#             (By.ID, \"t_password\")))\n",
    "#     pwd.send_keys(PASSWORD)\n",
    "#     pwd = driver.find_element_by_id('t_password')\n",
    "#     pwd.send_keys(PASSWORD)"
   ]
  },
  {
   "cell_type": "code",
   "execution_count": 20,
   "metadata": {
    "collapsed": true
   },
   "outputs": [],
   "source": [
    "import cv2"
   ]
  },
  {
   "cell_type": "code",
   "execution_count": 28,
   "metadata": {
    "collapsed": true
   },
   "outputs": [],
   "source": [
    "import cv2\n",
    "import numpy as np\n",
    "import matplotlib.pyplot as plt\n",
    "%matplotlib inline \n",
    "\n",
    "def show(img):\n",
    "    plt.imshow(img, cmap=\"gray\")\n",
    "    plt.show()"
   ]
  },
  {
   "cell_type": "code",
   "execution_count": null,
   "metadata": {
    "collapsed": true
   },
   "outputs": [],
   "source": [
    "def ocr(img):\n",
    "    # Tesseract mode settings:\n",
    "    #   Page Segmentation mode (PSmode) = 3 (defualt = 3)\n",
    "    #   OCR Enginer Mode (OEM) = 3 (defualt = 3)\n",
    "    tesser = cv2.text.OCRTesseract_create('C:/Program Files/Tesseract 4.0.0/tessdata/','eng','0123456789',3,3)\n",
    "    retval = tesser.run(img, 0) # return string type\n",
    "    print 'OCR Output: ' + retval\n",
    "\n",
    "# Directly feed image to Tesseact\n",
    "img = cv2.imread('./imagesStackoverflow/SmallDigits-x4.png')\n",
    "ocr(img)\n",
    "\n",
    "# Load image as gray scale \n",
    "img = cv2.imread('./imagesStackoverflow/SmallDigits-x4.png',0);\n",
    "show(img)\n",
    "ocr(img)"
   ]
  },
  {
   "cell_type": "code",
   "execution_count": 49,
   "metadata": {
    "collapsed": true
   },
   "outputs": [],
   "source": [
    "# img = cv2.imread(save_path)\n",
    "img = cv2.imread(save_path, 0)\n",
    "img_th = cv2.adaptiveThreshold(img, 255,\\\n",
    "    cv2.ADAPTIVE_THRESH_MEAN_C,cv2.THRESH_BINARY, 11, 2)\n",
    "pytesseract.image_to_string(Image.fromarray(img_th), config ='-c tessedit_char_whitelist=0123456789 -psm 11 -oem 2')"
   ]
  },
  {
   "cell_type": "code",
   "execution_count": 50,
   "metadata": {},
   "outputs": [
    {
     "data": {
      "image/png": "[encoded data removed]",
      "text/plain": [
       "<matplotlib.figure.Figure at 0x1d8b80bb828>"
      ]
     },
     "metadata": {},
     "output_type": "display_data"
    }
   ],
   "source": [
    "height, width = img.shape\n",
    "imgResized = cv2.resize(img, ( width*3, height*3))\n",
    "show(imgResized)"
   ]
  },
  {
   "cell_type": "code",
   "execution_count": 34,
   "metadata": {},
   "outputs": [
    {
     "data": {
      "text/plain": [
       "(150, 339)"
      ]
     },
     "execution_count": 34,
     "metadata": {},
     "output_type": "execute_result"
    }
   ],
   "source": [
    "imgResized.shape"
   ]
  },
  {
   "cell_type": "code",
   "execution_count": 68,
   "metadata": {
    "collapsed": true
   },
   "outputs": [],
   "source": [
    "img_th = cv2.adaptiveThreshold(img, 255,\\\n",
    "    cv2.ADAPTIVE_THRESH_MEAN_C,cv2.THRESH_BINARY, 11, 2)"
   ]
  },
  {
   "cell_type": "code",
   "execution_count": 69,
   "metadata": {},
   "outputs": [
    {
     "data": {
      "text/plain": [
       "''"
      ]
     },
     "execution_count": 69,
     "metadata": {},
     "output_type": "execute_result"
    }
   ],
   "source": [
    "pytesseract.image_to_string(Image.fromarray(img_th))"
   ]
  },
  {
   "cell_type": "code",
   "execution_count": 70,
   "metadata": {},
   "outputs": [
    {
     "data": {
      "image/png": "[encoded data removed]",
      "text/plain": [
       "<matplotlib.figure.Figure at 0x1d8b9294ef0>"
      ]
     },
     "metadata": {},
     "output_type": "display_data"
    }
   ],
   "source": [
    "show(img_th)"
   ]
  },
  {
   "cell_type": "code",
   "execution_count": 83,
   "metadata": {},
   "outputs": [
    {
     "data": {
      "image/png": "[encoded data removed]",
      "text/plain": [
       "<PIL.Image.Image image mode=L size=113x50 at 0x1D8B93B6FD0>"
      ]
     },
     "execution_count": 83,
     "metadata": {},
     "output_type": "execute_result"
    }
   ],
   "source": [
    "Image.fromarray(img_th)"
   ]
  },
  {
   "cell_type": "code",
   "execution_count": null,
   "metadata": {
    "collapsed": true
   },
   "outputs": [],
   "source": [
    "cv2.imwrite(save_path)"
   ]
  },
  {
   "cell_type": "code",
   "execution_count": 81,
   "metadata": {
    "collapsed": true
   },
   "outputs": [],
   "source": [
    "im = Image.fromarray(img_th)"
   ]
  },
  {
   "cell_type": "code",
   "execution_count": 82,
   "metadata": {},
   "outputs": [
    {
     "data": {
      "image/png": "[encoded data removed]",
      "text/plain": [
       "<PIL.Image.Image image mode=L size=113x50 at 0x1D8B934F978>"
      ]
     },
     "execution_count": 82,
     "metadata": {},
     "output_type": "execute_result"
    }
   ],
   "source": [
    "im"
   ]
  },
  {
   "cell_type": "code",
   "execution_count": 89,
   "metadata": {},
   "outputs": [
    {
     "data": {
      "text/plain": [
       "'5 6'"
      ]
     },
     "execution_count": 89,
     "metadata": {},
     "output_type": "execute_result"
    }
   ],
   "source": [
    "pytesseract.image_to_string(Image.fromarray(img_th), config ='-c tessedit_char_whitelist=0123456789 -psm 11 -oem 2')"
   ]
  },
  {
   "cell_type": "code",
   "execution_count": 42,
   "metadata": {},
   "outputs": [
    {
     "ename": "AttributeError",
     "evalue": "'numpy.ndarray' object has no attribute 'split'",
     "output_type": "error",
     "traceback": [
      "\u001b[0;31m---------------------------------------------------------------------------\u001b[0m",
      "\u001b[0;31mAttributeError\u001b[0m                            Traceback (most recent call last)",
      "\u001b[0;32m<ipython-input-42-d8e650bb75fa>\u001b[0m in \u001b[0;36m<module>\u001b[0;34m()\u001b[0m\n\u001b[0;32m----> 1\u001b[0;31m \u001b[0mpytesseract\u001b[0m\u001b[1;33m.\u001b[0m\u001b[0mimage_to_string\u001b[0m\u001b[1;33m(\u001b[0m\u001b[0mimg\u001b[0m\u001b[1;33m)\u001b[0m\u001b[1;33m\u001b[0m\u001b[0m\n\u001b[0m",
      "\u001b[0;32mC:\\Users\\Jisung\\Anaconda3\\lib\\site-packages\\pytesseract\\pytesseract.py\u001b[0m in \u001b[0;36mimage_to_string\u001b[0;34m(image, lang, boxes, config)\u001b[0m\n\u001b[1;32m    102\u001b[0m     '''\n\u001b[1;32m    103\u001b[0m \u001b[1;33m\u001b[0m\u001b[0m\n\u001b[0;32m--> 104\u001b[0;31m     \u001b[1;32mif\u001b[0m \u001b[0mlen\u001b[0m\u001b[1;33m(\u001b[0m\u001b[0mimage\u001b[0m\u001b[1;33m.\u001b[0m\u001b[0msplit\u001b[0m\u001b[1;33m(\u001b[0m\u001b[1;33m)\u001b[0m\u001b[1;33m)\u001b[0m \u001b[1;33m==\u001b[0m \u001b[1;36m4\u001b[0m\u001b[1;33m:\u001b[0m\u001b[1;33m\u001b[0m\u001b[0m\n\u001b[0m\u001b[1;32m    105\u001b[0m         \u001b[1;31m# In case we have 4 channels, lets discard the Alpha.\u001b[0m\u001b[1;33m\u001b[0m\u001b[1;33m\u001b[0m\u001b[0m\n\u001b[1;32m    106\u001b[0m         \u001b[1;31m# Kind of a hack, should fix in the future some time.\u001b[0m\u001b[1;33m\u001b[0m\u001b[1;33m\u001b[0m\u001b[0m\n",
      "\u001b[0;31mAttributeError\u001b[0m: 'numpy.ndarray' object has no attribute 'split'"
     ]
    }
   ],
   "source": [
    "pytesseract.image_to_string(img)"
   ]
  }
 ],
 "metadata": {
  "kernelspec": {
   "display_name": "Python 3",
   "language": "python",
   "name": "python3"
  },
  "language_info": {
   "codemirror_mode": {
    "name": "ipython",
    "version": 3
   },
   "file_extension": ".py",
   "mimetype": "text/x-python",
   "name": "python",
   "nbconvert_exporter": "python",
   "pygments_lexer": "ipython3",
   "version": "3.6.0"
  }
 },
 "nbformat": 4,
 "nbformat_minor": 2
}
