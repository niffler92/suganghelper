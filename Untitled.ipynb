{
 "cells": [
  {
   "cell_type": "code",
   "execution_count": 90,
   "metadata": {
    "collapsed": true
   },
   "outputs": [],
   "source": [
    "import datetime, time\n",
    "import os\n",
    "\n",
    "import numpy as np\n",
    "import pandas as pd\n",
    "from bs4 import BeautifulSoup\n",
    "from selenium import webdriver\n",
    "from selenium.webdriver.support import expected_conditions as EC\n",
    "from selenium.webdriver.common.by import By\n",
    "from selenium.webdriver.support.wait import WebDriverWait\n",
    "from selenium.common.exceptions import WebDriverException\n",
    "import pytesseract\n",
    "from PIL import Image, ImageGrab, ImageFilter, ImageEnhance\n",
    "import keyboard\n",
    "import cv2\n",
    "\n",
    "from settings import HAKBUN, PASSWORD, classes, coordinates\n",
    "from utils import log"
   ]
  },
  {
   "cell_type": "code",
   "execution_count": 2,
   "metadata": {
    "collapsed": true
   },
   "outputs": [],
   "source": [
    "path = os.path.abspath('./')\n",
    "pytesseract.pytesseract.tesseract_cmd = 'C:/Program Files (x86)/Tesseract-OCR/tesseract'"
   ]
  },
  {
   "cell_type": "code",
   "execution_count": 5,
   "metadata": {
    "collapsed": true
   },
   "outputs": [],
   "source": [
    "classes = ['호신술', '고급시계열분석', '고속 프로그래밍 방법 및 실습', '수리확률론특강(기계학습/인공지능)', '기계학습 산업응용', '컴퓨터프로그래밍']"
   ]
  },
  {
   "cell_type": "code",
   "execution_count": 6,
   "metadata": {
    "collapsed": true
   },
   "outputs": [],
   "source": [
    "def log_in(driver, Id=HAKBUN, password=PASSWORD):    \n",
    "    driver.get('http://sugang.snu.ac.kr')\n",
    "    driver.switch_to.frame(driver.find_elements_by_tag_name(\"iframe\")[0])\n",
    "\n",
    "    driver.implicitly_wait(5)\n",
    "    driver.find_element_by_id('j_username').send_keys(Id)\n",
    "    driver.implicitly_wait(1)\n",
    "    driver.find_element_by_id('t_password').send_keys(password)\n",
    "    driver.find_element_by_xpath('//*[@id=\"CO010\"]/div/div/p[3]/a').click()"
   ]
  },
  {
   "cell_type": "code",
   "execution_count": 291,
   "metadata": {
    "collapsed": true
   },
   "outputs": [],
   "source": [
    "def check_classes(driver, classes, save_capture=False):\n",
    "    assert type(classes) == list, \"Must be a list of classes for sugang.\"\n",
    "    \n",
    "    driver.get('https://sugang.snu.ac.kr/sugang/cc/cc210.action')\n",
    "    html = driver.page_source\n",
    "    df_sugang = pd.read_html(html)[0]\n",
    "    df_sugang = df_sugang[~df_sugang.loc[:, df_sugang.columns=='정원(재학생)'].isnull().values].reindex()\n",
    "\n",
    "    for idx, values in df_sugang.iterrows():\n",
    "        full = int(values['정원(재학생)'].split()[0])\n",
    "        current = values['수강신청인원']\n",
    "        \n",
    "        if full > current and values['교과목명(부제명)'] in classes:\n",
    "            log.info(\"Trying to enroll in class {}: ({}/{})\".format(\n",
    "                values['교과목명(부제명)'], int(current), full))\n",
    "            enrolled =  enroll_in_class(driver, values['교과목명(부제명)'], idx + 1, save_capture)\n",
    "            if (idx+1) < len(classes): driver.get('https://sugang.snu.ac.kr/sugang/cc/cc210.action')\n",
    "            time.sleep(0.3)\n",
    "#             if enrolled:\n",
    "#                 classes.remove(values['교과목명(부제명)'])"
   ]
  },
  {
   "cell_type": "code",
   "execution_count": 285,
   "metadata": {
    "collapsed": true
   },
   "outputs": [],
   "source": [
    "def enroll_in_class(driver, classname, index, save_capture=False):\n",
    "    \n",
    "    content = driver.find_element_by_id('content')\n",
    "    table = content.find_element_by_tag_name('table')\n",
    "    check = table.find_element_by_xpath('//tr[{}]/td[1]/input[1]'.format(index))\n",
    "    check.click()\n",
    "\n",
    "    im = ImageGrab.grab(bbox=(coordinates['x1'], coordinates['y1'],\n",
    "                          coordinates['x2'], coordinates['y2']))\n",
    "    save_path = os.path.join(path, 'screenshot/',\n",
    "                         datetime.datetime.now().strftime('%m%d_%H%M%S.png'))\n",
    "    im.save(save_path, dpi=(500, 500))\n",
    "    \n",
    "    text = image_to_text(filepath=save_path, save=save_capture)\n",
    "    log.info(\"Detected digits for {} : {}\".format(save_path, text))\n",
    "\n",
    "    driver.find_element_by_xpath('//*[@id=\"inputTextView\"]').send_keys(text)\n",
    "    keyboard.press_and_release('enter')\n",
    "    keyboard.press_and_release('enter') # Pop-up \n",
    "    \n",
    "    return True  # FIXME"
   ]
  },
  {
   "cell_type": "code",
   "execution_count": 286,
   "metadata": {},
   "outputs": [],
   "source": [
    "def image_to_text(img=None, filepath=None, save=False):\n",
    "    \"\"\"\n",
    "    Input can be either image or filepath of the image\n",
    "    \"\"\"\n",
    "    if filepath and img is None:\n",
    "        img = cv2.imread(filepath, 0)\n",
    "        \n",
    "    img_th = cv2.adaptiveThreshold(img, 255,\\\n",
    "        cv2.ADAPTIVE_THRESH_MEAN_C,cv2.THRESH_BINARY, 11, 2)\n",
    "    img_th = Image.fromarray(img_th)\n",
    "#     w,h = img.shape\n",
    "#     img_th = img_th.resize((3*h, 3*w))\n",
    "    img_th = img_th.filter(ImageFilter.MedianFilter())\n",
    "    enhancer = ImageEnhance.Contrast(img_th)\n",
    "    img_th = enhancer.enhance(2)\n",
    "    \n",
    "    show(img_th)\n",
    "        \n",
    "    text = pytesseract.image_to_string(\n",
    "        img_th,\n",
    "        config = '--psm 11 --oem 2 -c tessedit_char_whitelist=0123456789')\n",
    "    text = ''.join(text.split())\n",
    "    \n",
    "    save_path = os.path.join(path, 'screenshot/',\n",
    "                         datetime.datetime.now().strftime('%m%d_%H%M%S.png'))\n",
    "    img_th.save(save_path, dpi=(500, 500)) if save else os.remove(save_path)\n",
    "\n",
    "    return text"
   ]
  },
  {
   "cell_type": "code",
   "execution_count": 287,
   "metadata": {
    "collapsed": true
   },
   "outputs": [],
   "source": [
    "def save_remaining(classes):\n",
    "    pass\n",
    "\n",
    "def main():\n",
    "    driver = webdriver.Firefox(executable_path=os.path.join(path, 'geckodriver.exe'))\n",
    "    log_in(driver, Id=HAKBUN, password=PASSWORD)\n",
    "    st = time.time()\n",
    "    while True:\n",
    "        check_classes(driver, classes, save_capture=True)\n",
    "        time.sleep(0.3)\n",
    "        if time.time() - st > 60:\n",
    "#             save_remaining(classes)\n",
    "            break"
   ]
  },
  {
   "cell_type": "code",
   "execution_count": 293,
   "metadata": {
    "collapsed": true
   },
   "outputs": [],
   "source": [
    "classes = ['호신술', '고급시계열분석', '고속 프로그래밍 방법 및 실습', '수리확률론특강(기계학습/인공지능)', '기계학습 산업응용', '컴퓨터프로그래밍']"
   ]
  },
  {
   "cell_type": "code",
   "execution_count": 294,
   "metadata": {},
   "outputs": [
    {
     "name": "stderr",
     "output_type": "stream",
     "text": [
      "[INFO|<ipython-input-291-bffc114a69cc>:15] 2017-07-29 19:29:36,870 > Trying to enroll in class 고급시계열분석: (8/40)\n"
     ]
    },
    {
     "data": {
      "image/png": "[encoded data removed]",
      "text/plain": [
       "<matplotlib.figure.Figure at 0x1d8b924e208>"
      ]
     },
     "metadata": {},
     "output_type": "display_data"
    },
    {
     "name": "stderr",
     "output_type": "stream",
     "text": [
      "[INFO|<ipython-input-285-22566ee1166a>:15] 2017-07-29 19:29:37,844 > Detected digits for C:\\Users\\Jisung\\workspace\\suganghelper\\screenshot/0729_192937.png : 49\n",
      "[INFO|<ipython-input-291-bffc114a69cc>:15] 2017-07-29 19:29:38,744 > Trying to enroll in class 컴퓨터프로그래밍: (64/100)\n"
     ]
    },
    {
     "data": {
      "image/png": "[encoded data removed]",
      "text/plain": [
       "<matplotlib.figure.Figure at 0x1d8b97b8ac8>"
      ]
     },
     "metadata": {},
     "output_type": "display_data"
    },
    {
     "name": "stderr",
     "output_type": "stream",
     "text": [
      "[INFO|<ipython-input-285-22566ee1166a>:15] 2017-07-29 19:29:39,697 > Detected digits for C:\\Users\\Jisung\\workspace\\suganghelper\\screenshot/0729_192939.png : 00\n",
      "[INFO|<ipython-input-291-bffc114a69cc>:15] 2017-07-29 19:29:41,011 > Trying to enroll in class 고급시계열분석: (8/40)\n"
     ]
    },
    {
     "data": {
      "image/png": "[encoded data removed]",
      "text/plain": [
       "<matplotlib.figure.Figure at 0x1d8b94ed550>"
      ]
     },
     "metadata": {},
     "output_type": "display_data"
    },
    {
     "name": "stderr",
     "output_type": "stream",
     "text": [
      "[INFO|<ipython-input-285-22566ee1166a>:15] 2017-07-29 19:29:41,922 > Detected digits for C:\\Users\\Jisung\\workspace\\suganghelper\\screenshot/0729_192941.png : 33\n",
      "[INFO|<ipython-input-291-bffc114a69cc>:15] 2017-07-29 19:29:42,571 > Trying to enroll in class 컴퓨터프로그래밍: (64/100)\n"
     ]
    },
    {
     "data": {
      "image/png": "[encoded data removed]",
      "text/plain": [
       "<matplotlib.figure.Figure at 0x1d8b801db00>"
      ]
     },
     "metadata": {},
     "output_type": "display_data"
    },
    {
     "name": "stderr",
     "output_type": "stream",
     "text": [
      "[INFO|<ipython-input-285-22566ee1166a>:15] 2017-07-29 19:29:43,496 > Detected digits for C:\\Users\\Jisung\\workspace\\suganghelper\\screenshot/0729_192942.png : I6\n",
      "[INFO|<ipython-input-291-bffc114a69cc>:15] 2017-07-29 19:29:45,299 > Trying to enroll in class 고급시계열분석: (8/40)\n"
     ]
    },
    {
     "data": {
      "image/png": "[encoded data removed]",
      "text/plain": [
       "<matplotlib.figure.Figure at 0x1d8b92b93c8>"
      ]
     },
     "metadata": {},
     "output_type": "display_data"
    },
    {
     "name": "stderr",
     "output_type": "stream",
     "text": [
      "[INFO|<ipython-input-285-22566ee1166a>:15] 2017-07-29 19:29:46,231 > Detected digits for C:\\Users\\Jisung\\workspace\\suganghelper\\screenshot/0729_192945.png : 7;\n",
      "[INFO|<ipython-input-291-bffc114a69cc>:15] 2017-07-29 19:29:46,925 > Trying to enroll in class 컴퓨터프로그래밍: (64/100)\n"
     ]
    },
    {
     "data": {
      "image/png": "[encoded data removed]",
      "text/plain": [
       "<matplotlib.figure.Figure at 0x1d8b9abaa58>"
      ]
     },
     "metadata": {},
     "output_type": "display_data"
    },
    {
     "name": "stderr",
     "output_type": "stream",
     "text": [
      "[INFO|<ipython-input-285-22566ee1166a>:15] 2017-07-29 19:29:47,948 > Detected digits for C:\\Users\\Jisung\\workspace\\suganghelper\\screenshot/0729_192947.png : 62\n",
      "[INFO|<ipython-input-291-bffc114a69cc>:15] 2017-07-29 19:29:49,047 > Trying to enroll in class 고급시계열분석: (8/40)\n"
     ]
    },
    {
     "data": {
      "image/png": "[encoded data removed]",
      "text/plain": [
       "<matplotlib.figure.Figure at 0x1d8b939dc88>"
      ]
     },
     "metadata": {},
     "output_type": "display_data"
    },
    {
     "name": "stderr",
     "output_type": "stream",
     "text": [
      "[INFO|<ipython-input-285-22566ee1166a>:15] 2017-07-29 19:29:50,026 > Detected digits for C:\\Users\\Jisung\\workspace\\suganghelper\\screenshot/0729_192949.png : 46\n",
      "[INFO|<ipython-input-291-bffc114a69cc>:15] 2017-07-29 19:29:50,813 > Trying to enroll in class 컴퓨터프로그래밍: (64/100)\n"
     ]
    },
    {
     "data": {
      "image/png": "[encoded data removed]",
      "text/plain": [
       "<matplotlib.figure.Figure at 0x1d8b7f99e80>"
      ]
     },
     "metadata": {},
     "output_type": "display_data"
    },
    {
     "name": "stderr",
     "output_type": "stream",
     "text": [
      "[INFO|<ipython-input-285-22566ee1166a>:15] 2017-07-29 19:29:51,978 > Detected digits for C:\\Users\\Jisung\\workspace\\suganghelper\\screenshot/0729_192951.png : 73\n",
      "[INFO|<ipython-input-291-bffc114a69cc>:15] 2017-07-29 19:29:53,368 > Trying to enroll in class 고급시계열분석: (8/40)\n"
     ]
    },
    {
     "data": {
      "image/png": "[encoded data removed]",
      "text/plain": [
       "<matplotlib.figure.Figure at 0x1d8b8110eb8>"
      ]
     },
     "metadata": {},
     "output_type": "display_data"
    },
    {
     "name": "stderr",
     "output_type": "stream",
     "text": [
      "[INFO|<ipython-input-285-22566ee1166a>:15] 2017-07-29 19:29:54,355 > Detected digits for C:\\Users\\Jisung\\workspace\\suganghelper\\screenshot/0729_192953.png : ;14\n",
      "[INFO|<ipython-input-291-bffc114a69cc>:15] 2017-07-29 19:29:55,398 > Trying to enroll in class 컴퓨터프로그래밍: (64/100)\n"
     ]
    },
    {
     "data": {
      "image/png": "[encoded data removed]",
      "text/plain": [
       "<matplotlib.figure.Figure at 0x1d8b955af60>"
      ]
     },
     "metadata": {},
     "output_type": "display_data"
    },
    {
     "name": "stderr",
     "output_type": "stream",
     "text": [
      "[INFO|<ipython-input-285-22566ee1166a>:15] 2017-07-29 19:29:56,348 > Detected digits for C:\\Users\\Jisung\\workspace\\suganghelper\\screenshot/0729_192955.png : 48\n",
      "[INFO|<ipython-input-291-bffc114a69cc>:15] 2017-07-29 19:29:57,733 > Trying to enroll in class 고급시계열분석: (8/40)\n"
     ]
    },
    {
     "data": {
      "image/png": "[encoded data removed]",
      "text/plain": [
       "<matplotlib.figure.Figure at 0x1d8b8101470>"
      ]
     },
     "metadata": {},
     "output_type": "display_data"
    },
    {
     "name": "stderr",
     "output_type": "stream",
     "text": [
      "[INFO|<ipython-input-285-22566ee1166a>:15] 2017-07-29 19:29:58,734 > Detected digits for C:\\Users\\Jisung\\workspace\\suganghelper\\screenshot/0729_192958.png : 43\n",
      "[INFO|<ipython-input-291-bffc114a69cc>:15] 2017-07-29 19:29:59,576 > Trying to enroll in class 컴퓨터프로그래밍: (64/100)\n"
     ]
    },
    {
     "data": {
      "image/png": "[encoded data removed]",
      "text/plain": [
       "<matplotlib.figure.Figure at 0x1d8b8110320>"
      ]
     },
     "metadata": {},
     "output_type": "display_data"
    },
    {
     "name": "stderr",
     "output_type": "stream",
     "text": [
      "[INFO|<ipython-input-285-22566ee1166a>:15] 2017-07-29 19:30:00,623 > Detected digits for C:\\Users\\Jisung\\workspace\\suganghelper\\screenshot/0729_192959.png : 47\n",
      "[INFO|<ipython-input-291-bffc114a69cc>:15] 2017-07-29 19:30:01,948 > Trying to enroll in class 고급시계열분석: (8/40)\n"
     ]
    },
    {
     "data": {
      "image/png": "[encoded data removed]",
      "text/plain": [
       "<matplotlib.figure.Figure at 0x1d8b9224e48>"
      ]
     },
     "metadata": {},
     "output_type": "display_data"
    },
    {
     "name": "stderr",
     "output_type": "stream",
     "text": [
      "[INFO|<ipython-input-285-22566ee1166a>:15] 2017-07-29 19:30:02,877 > Detected digits for C:\\Users\\Jisung\\workspace\\suganghelper\\screenshot/0729_193002.png : 81\n",
      "[INFO|<ipython-input-291-bffc114a69cc>:15] 2017-07-29 19:30:03,867 > Trying to enroll in class 컴퓨터프로그래밍: (64/100)\n"
     ]
    },
    {
     "data": {
      "image/png": "[encoded data removed]",
      "text/plain": [
       "<matplotlib.figure.Figure at 0x1d8b7f99390>"
      ]
     },
     "metadata": {},
     "output_type": "display_data"
    },
    {
     "name": "stderr",
     "output_type": "stream",
     "text": [
      "[INFO|<ipython-input-285-22566ee1166a>:15] 2017-07-29 19:30:04,685 > Detected digits for C:\\Users\\Jisung\\workspace\\suganghelper\\screenshot/0729_193004.png : \n",
      "[INFO|<ipython-input-291-bffc114a69cc>:15] 2017-07-29 19:30:05,774 > Trying to enroll in class 고급시계열분석: (8/40)\n"
     ]
    },
    {
     "data": {
      "image/png": "[encoded data removed]",
      "text/plain": [
       "<matplotlib.figure.Figure at 0x1d8b9224978>"
      ]
     },
     "metadata": {},
     "output_type": "display_data"
    },
    {
     "name": "stderr",
     "output_type": "stream",
     "text": [
      "[INFO|<ipython-input-285-22566ee1166a>:15] 2017-07-29 19:30:06,738 > Detected digits for C:\\Users\\Jisung\\workspace\\suganghelper\\screenshot/0729_193006.png : 13\n",
      "[INFO|<ipython-input-291-bffc114a69cc>:15] 2017-07-29 19:30:07,436 > Trying to enroll in class 컴퓨터프로그래밍: (64/100)\n"
     ]
    },
    {
     "data": {
      "image/png": "[encoded data removed]",
      "text/plain": [
       "<matplotlib.figure.Figure at 0x1d8b91e4358>"
      ]
     },
     "metadata": {},
     "output_type": "display_data"
    },
    {
     "name": "stderr",
     "output_type": "stream",
     "text": [
      "[INFO|<ipython-input-285-22566ee1166a>:15] 2017-07-29 19:30:08,480 > Detected digits for C:\\Users\\Jisung\\workspace\\suganghelper\\screenshot/0729_193007.png : 25\n",
      "[INFO|<ipython-input-291-bffc114a69cc>:15] 2017-07-29 19:30:09,731 > Trying to enroll in class 고급시계열분석: (8/40)\n"
     ]
    },
    {
     "data": {
      "image/png": "[encoded data removed]",
      "text/plain": [
       "<matplotlib.figure.Figure at 0x1d8b94e77f0>"
      ]
     },
     "metadata": {},
     "output_type": "display_data"
    },
    {
     "name": "stderr",
     "output_type": "stream",
     "text": [
      "[INFO|<ipython-input-285-22566ee1166a>:15] 2017-07-29 19:30:10,685 > Detected digits for C:\\Users\\Jisung\\workspace\\suganghelper\\screenshot/0729_193010.png : 72\n",
      "[INFO|<ipython-input-291-bffc114a69cc>:15] 2017-07-29 19:30:11,332 > Trying to enroll in class 컴퓨터프로그래밍: (64/100)\n"
     ]
    },
    {
     "data": {
      "image/png": "[encoded data removed]",
      "text/plain": [
       "<matplotlib.figure.Figure at 0x1d8b99e66a0>"
      ]
     },
     "metadata": {},
     "output_type": "display_data"
    },
    {
     "name": "stderr",
     "output_type": "stream",
     "text": [
      "[INFO|<ipython-input-285-22566ee1166a>:15] 2017-07-29 19:30:12,341 > Detected digits for C:\\Users\\Jisung\\workspace\\suganghelper\\screenshot/0729_193011.png : 11\n",
      "[INFO|<ipython-input-291-bffc114a69cc>:15] 2017-07-29 19:30:14,283 > Trying to enroll in class 고급시계열분석: (8/40)\n"
     ]
    },
    {
     "data": {
      "image/png": "[encoded data removed]",
      "text/plain": [
       "<matplotlib.figure.Figure at 0x1d8b8052400>"
      ]
     },
     "metadata": {},
     "output_type": "display_data"
    },
    {
     "name": "stderr",
     "output_type": "stream",
     "text": [
      "[INFO|<ipython-input-285-22566ee1166a>:15] 2017-07-29 19:30:15,235 > Detected digits for C:\\Users\\Jisung\\workspace\\suganghelper\\screenshot/0729_193014.png : 35\n",
      "[INFO|<ipython-input-291-bffc114a69cc>:15] 2017-07-29 19:30:16,076 > Trying to enroll in class 컴퓨터프로그래밍: (64/100)\n"
     ]
    },
    {
     "data": {
      "image/png": "[encoded data removed]",
      "text/plain": [
       "<matplotlib.figure.Figure at 0x1d8b95394e0>"
      ]
     },
     "metadata": {},
     "output_type": "display_data"
    },
    {
     "name": "stderr",
     "output_type": "stream",
     "text": [
      "[INFO|<ipython-input-285-22566ee1166a>:15] 2017-07-29 19:30:16,950 > Detected digits for C:\\Users\\Jisung\\workspace\\suganghelper\\screenshot/0729_193016.png : 76\n",
      "[INFO|<ipython-input-291-bffc114a69cc>:15] 2017-07-29 19:30:18,363 > Trying to enroll in class 고급시계열분석: (8/40)\n"
     ]
    },
    {
     "data": {
      "image/png": "[encoded data removed]",
      "text/plain": [
       "<matplotlib.figure.Figure at 0x1d8b955ae48>"
      ]
     },
     "metadata": {},
     "output_type": "display_data"
    },
    {
     "name": "stderr",
     "output_type": "stream",
     "text": [
      "[INFO|<ipython-input-285-22566ee1166a>:15] 2017-07-29 19:30:19,345 > Detected digits for C:\\Users\\Jisung\\workspace\\suganghelper\\screenshot/0729_193018.png : 48\n",
      "[INFO|<ipython-input-291-bffc114a69cc>:15] 2017-07-29 19:30:20,401 > Trying to enroll in class 컴퓨터프로그래밍: (64/100)\n"
     ]
    },
    {
     "data": {
      "image/png": "[encoded data removed]",
      "text/plain": [
       "<matplotlib.figure.Figure at 0x1d8b944d630>"
      ]
     },
     "metadata": {},
     "output_type": "display_data"
    },
    {
     "name": "stderr",
     "output_type": "stream",
     "text": [
      "[INFO|<ipython-input-285-22566ee1166a>:15] 2017-07-29 19:30:21,484 > Detected digits for C:\\Users\\Jisung\\workspace\\suganghelper\\screenshot/0729_193021.png : 02\n",
      "[INFO|<ipython-input-291-bffc114a69cc>:15] 2017-07-29 19:30:22,732 > Trying to enroll in class 고급시계열분석: (8/40)\n"
     ]
    },
    {
     "data": {
      "image/png": "[encoded data removed]",
      "text/plain": [
       "<matplotlib.figure.Figure at 0x1d8b80c6080>"
      ]
     },
     "metadata": {},
     "output_type": "display_data"
    },
    {
     "name": "stderr",
     "output_type": "stream",
     "text": [
      "[INFO|<ipython-input-285-22566ee1166a>:15] 2017-07-29 19:30:23,785 > Detected digits for C:\\Users\\Jisung\\workspace\\suganghelper\\screenshot/0729_193023.png : 80\n",
      "[INFO|<ipython-input-291-bffc114a69cc>:15] 2017-07-29 19:30:24,774 > Trying to enroll in class 컴퓨터프로그래밍: (64/100)\n"
     ]
    },
    {
     "data": {
      "image/png": "[encoded data removed]",
      "text/plain": [
       "<matplotlib.figure.Figure at 0x1d8b9561630>"
      ]
     },
     "metadata": {},
     "output_type": "display_data"
    },
    {
     "name": "stderr",
     "output_type": "stream",
     "text": [
      "[INFO|<ipython-input-285-22566ee1166a>:15] 2017-07-29 19:30:25,883 > Detected digits for C:\\Users\\Jisung\\workspace\\suganghelper\\screenshot/0729_193025.png : 15\n",
      "[INFO|<ipython-input-291-bffc114a69cc>:15] 2017-07-29 19:30:27,105 > Trying to enroll in class 고급시계열분석: (8/40)\n"
     ]
    },
    {
     "data": {
      "image/png": "[encoded data removed]",
      "text/plain": [
       "<matplotlib.figure.Figure at 0x1d8b92b9b38>"
      ]
     },
     "metadata": {},
     "output_type": "display_data"
    },
    {
     "name": "stderr",
     "output_type": "stream",
     "text": [
      "[INFO|<ipython-input-285-22566ee1166a>:15] 2017-07-29 19:30:28,647 > Detected digits for C:\\Users\\Jisung\\workspace\\suganghelper\\screenshot/0729_193027.png : 1g\n",
      "[INFO|<ipython-input-291-bffc114a69cc>:15] 2017-07-29 19:30:29,412 > Trying to enroll in class 컴퓨터프로그래밍: (64/100)\n"
     ]
    },
    {
     "data": {
      "image/png": "[encoded data removed]",
      "text/plain": [
       "<matplotlib.figure.Figure at 0x1d8b812b0b8>"
      ]
     },
     "metadata": {},
     "output_type": "display_data"
    },
    {
     "name": "stderr",
     "output_type": "stream",
     "text": [
      "[INFO|<ipython-input-285-22566ee1166a>:15] 2017-07-29 19:30:30,479 > Detected digits for C:\\Users\\Jisung\\workspace\\suganghelper\\screenshot/0729_193029.png : Q7\n",
      "[INFO|<ipython-input-291-bffc114a69cc>:15] 2017-07-29 19:30:32,053 > Trying to enroll in class 고급시계열분석: (8/40)\n"
     ]
    },
    {
     "data": {
      "image/png": "[encoded data removed]",
      "text/plain": [
       "<matplotlib.figure.Figure at 0x1d8b9299518>"
      ]
     },
     "metadata": {},
     "output_type": "display_data"
    },
    {
     "name": "stderr",
     "output_type": "stream",
     "text": [
      "[INFO|<ipython-input-285-22566ee1166a>:15] 2017-07-29 19:30:33,115 > Detected digits for C:\\Users\\Jisung\\workspace\\suganghelper\\screenshot/0729_193032.png : 45\n",
      "[INFO|<ipython-input-291-bffc114a69cc>:15] 2017-07-29 19:30:34,211 > Trying to enroll in class 컴퓨터프로그래밍: (64/100)\n"
     ]
    },
    {
     "data": {
      "image/png": "[encoded data removed]",
      "text/plain": [
       "<matplotlib.figure.Figure at 0x1d8b91e46a0>"
      ]
     },
     "metadata": {},
     "output_type": "display_data"
    },
    {
     "name": "stderr",
     "output_type": "stream",
     "text": [
      "[INFO|<ipython-input-285-22566ee1166a>:15] 2017-07-29 19:30:35,474 > Detected digits for C:\\Users\\Jisung\\workspace\\suganghelper\\screenshot/0729_193034.png : 37\n"
     ]
    }
   ],
   "source": [
    "main()"
   ]
  },
  {
   "cell_type": "code",
   "execution_count": 59,
   "metadata": {},
   "outputs": [
    {
     "data": {
      "text/plain": [
       "['호신술', '고속 프로그래밍 방법 및 실습', '수리확률론특강(기계학습/인공지능)', '기계학습 산업응용']"
      ]
     },
     "execution_count": 59,
     "metadata": {},
     "output_type": "execute_result"
    }
   ],
   "source": [
    "classes"
   ]
  },
  {
   "cell_type": "code",
   "execution_count": 122,
   "metadata": {
    "collapsed": true
   },
   "outputs": [],
   "source": [
    "index = 1"
   ]
  },
  {
   "cell_type": "code",
   "execution_count": 129,
   "metadata": {
    "collapsed": true
   },
   "outputs": [],
   "source": [
    "# driver.find_element_by_xpath('//*[@id=\"content\"]/div/div[2]/div[1]/div/table/tbody/tr[1]/td[1]/input[1]').click()\n",
    "content = driver.find_element_by_id('content')\n",
    "table = content.find_element_by_tag_name('table')\n",
    "check = table.find_element_by_xpath('//tr[{}]/td[1]/input[1]'.format(index))\n",
    "check.click()"
   ]
  },
  {
   "cell_type": "code",
   "execution_count": 13,
   "metadata": {
    "collapsed": true
   },
   "outputs": [],
   "source": [
    "save_path = 'C://Users//Jisung//workspace//suganghelper//screenshot/0729_154555.png'"
   ]
  },
  {
   "cell_type": "code",
   "execution_count": 14,
   "metadata": {},
   "outputs": [
    {
     "data": {
      "text/plain": [
       "(113, 50)"
      ]
     },
     "execution_count": 14,
     "metadata": {},
     "output_type": "execute_result"
    }
   ],
   "source": [
    "Image.open(save_path).size"
   ]
  },
  {
   "cell_type": "code",
   "execution_count": 15,
   "metadata": {},
   "outputs": [
    {
     "data": {
      "image/png": "[encoded data removed]",
      "text/plain": [
       "<PIL.PngImagePlugin.PngImageFile image mode=RGB size=113x50 at 0x1D8B6FB8CF8>"
      ]
     },
     "execution_count": 15,
     "metadata": {},
     "output_type": "execute_result"
    }
   ],
   "source": [
    "Image.open(save_path) #.resize((400, 200))"
   ]
  },
  {
   "cell_type": "code",
   "execution_count": 16,
   "metadata": {},
   "outputs": [
    {
     "data": {
      "text/plain": [
       "''"
      ]
     },
     "execution_count": 16,
     "metadata": {},
     "output_type": "execute_result"
    }
   ],
   "source": [
    "image_to_text(save_path)"
   ]
  },
  {
   "cell_type": "code",
   "execution_count": 17,
   "metadata": {},
   "outputs": [
    {
     "data": {
      "text/plain": [
       "''"
      ]
     },
     "execution_count": 17,
     "metadata": {},
     "output_type": "execute_result"
    }
   ],
   "source": [
    "pytesseract.image_to_string(Image.open(save_path).resize((1000, 500)))"
   ]
  },
  {
   "cell_type": "code",
   "execution_count": 136,
   "metadata": {
    "collapsed": true
   },
   "outputs": [],
   "source": [
    "text = image_to_text(save_path)\n",
    "driver.find_element_by_xpath('//*[@id=\"inputTextView\"]').send_keys(text)\n",
    "driver.find_element_by_xpath('//*[@id=\"content\"]/div/div[2]/div[2]/div[2]/a').click()"
   ]
  },
  {
   "cell_type": "code",
   "execution_count": 8,
   "metadata": {
    "collapsed": true
   },
   "outputs": [],
   "source": [
    "driver.get('https://sugang.snu.ac.kr/sugang/cc/cc210.action')\n",
    "html = driver.page_source\n",
    "df_sugang = pd.read_html(html)[0]\n",
    "df_sugang = df_sugang[~df_sugang.loc[:, df_sugang.columns=='정원(재학생)'].isnull().values]"
   ]
  },
  {
   "cell_type": "code",
   "execution_count": 138,
   "metadata": {},
   "outputs": [
    {
     "data": {
      "text/html": [
       "<div>\n",
       "<table border=\"1\" class=\"dataframe\">\n",
       "  <thead>\n",
       "    <tr style=\"text-align: right;\">\n",
       "      <th></th>\n",
       "      <th>선택</th>\n",
       "      <th>교과구분</th>\n",
       "      <th>개설대학</th>\n",
       "      <th>개설학과</th>\n",
       "      <th>학년</th>\n",
       "      <th>교과목번호</th>\n",
       "      <th>강좌번호</th>\n",
       "      <th>교과목명(부제명)</th>\n",
       "      <th>학점-강의-실습</th>\n",
       "      <th>수업교시</th>\n",
       "      <th>수업형태</th>\n",
       "      <th>강의실(동-호)(#연건,*평창)</th>\n",
       "      <th>주담당교수</th>\n",
       "      <th>정원(재학생)</th>\n",
       "      <th>수강신청인원</th>\n",
       "      <th>비고</th>\n",
       "    </tr>\n",
       "  </thead>\n",
       "  <tbody>\n",
       "    <tr>\n",
       "      <th>0</th>\n",
       "      <td>NaN</td>\n",
       "      <td>교양</td>\n",
       "      <td>사범대학</td>\n",
       "      <td>체육교육과</td>\n",
       "      <td>1학년</td>\n",
       "      <td>051.017</td>\n",
       "      <td>1.0</td>\n",
       "      <td>호신술</td>\n",
       "      <td>1-0-2</td>\n",
       "      <td>월(09:00~10:50)</td>\n",
       "      <td>실기</td>\n",
       "      <td>NaN</td>\n",
       "      <td>김용세</td>\n",
       "      <td>30 (30)</td>\n",
       "      <td>30.0</td>\n",
       "      <td>71동 3층 태권도장</td>\n",
       "    </tr>\n",
       "    <tr>\n",
       "      <th>1</th>\n",
       "      <td>NaN</td>\n",
       "      <td>교양</td>\n",
       "      <td>사범대학</td>\n",
       "      <td>체육교육과</td>\n",
       "      <td>1학년</td>\n",
       "      <td>051.017</td>\n",
       "      <td>2.0</td>\n",
       "      <td>호신술</td>\n",
       "      <td>1-0-2</td>\n",
       "      <td>금(09:00~10:50)</td>\n",
       "      <td>실기</td>\n",
       "      <td>NaN</td>\n",
       "      <td>김은정</td>\n",
       "      <td>30 (30)</td>\n",
       "      <td>30.0</td>\n",
       "      <td>71동 3층 태권도장</td>\n",
       "    </tr>\n",
       "    <tr>\n",
       "      <th>2</th>\n",
       "      <td>NaN</td>\n",
       "      <td>교양</td>\n",
       "      <td>사범대학</td>\n",
       "      <td>체육교육과</td>\n",
       "      <td>1학년</td>\n",
       "      <td>051.017</td>\n",
       "      <td>3.0</td>\n",
       "      <td>호신술</td>\n",
       "      <td>1-0-2</td>\n",
       "      <td>금(11:00~12:50)</td>\n",
       "      <td>실기</td>\n",
       "      <td>NaN</td>\n",
       "      <td>김은정</td>\n",
       "      <td>30 (30)</td>\n",
       "      <td>30.0</td>\n",
       "      <td>71동 3층 태권도장</td>\n",
       "    </tr>\n",
       "    <tr>\n",
       "      <th>3</th>\n",
       "      <td>NaN</td>\n",
       "      <td>전선</td>\n",
       "      <td>자연과학대학</td>\n",
       "      <td>통계학과</td>\n",
       "      <td>0학년</td>\n",
       "      <td>326.725A</td>\n",
       "      <td>1.0</td>\n",
       "      <td>고급시계열분석</td>\n",
       "      <td>3-3-0</td>\n",
       "      <td>금(13:00~15:50)</td>\n",
       "      <td>이론</td>\n",
       "      <td>025-405</td>\n",
       "      <td>오해준</td>\n",
       "      <td>40 (40)</td>\n",
       "      <td>8.0</td>\n",
       "      <td>NaN</td>\n",
       "    </tr>\n",
       "    <tr>\n",
       "      <th>4</th>\n",
       "      <td>NaN</td>\n",
       "      <td>전선</td>\n",
       "      <td>자연과학대학</td>\n",
       "      <td>수리과학부</td>\n",
       "      <td>3학년</td>\n",
       "      <td>3341.362</td>\n",
       "      <td>1.0</td>\n",
       "      <td>고속 프로그래밍 방법 및 실습</td>\n",
       "      <td>3-2-2</td>\n",
       "      <td>월(13:00~14:50)</td>\n",
       "      <td>이론</td>\n",
       "      <td>024-113</td>\n",
       "      <td>이병준</td>\n",
       "      <td>40 (40)</td>\n",
       "      <td>40.0</td>\n",
       "      <td>초안지는 http://www.math.snu.ac.kr/board/portal 참조</td>\n",
       "    </tr>\n",
       "  </tbody>\n",
       "</table>\n",
       "</div>"
      ],
      "text/plain": [
       "    선택 교과구분    개설대학   개설학과   학년     교과목번호  강좌번호         교과목명(부제명) 학점-강의-실습  \\\n",
       "0  NaN   교양    사범대학  체육교육과  1학년   051.017   1.0               호신술    1-0-2   \n",
       "1  NaN   교양    사범대학  체육교육과  1학년   051.017   2.0               호신술    1-0-2   \n",
       "2  NaN   교양    사범대학  체육교육과  1학년   051.017   3.0               호신술    1-0-2   \n",
       "3  NaN   전선  자연과학대학   통계학과  0학년  326.725A   1.0           고급시계열분석    3-3-0   \n",
       "4  NaN   전선  자연과학대학  수리과학부  3학년  3341.362   1.0  고속 프로그래밍 방법 및 실습    3-2-2   \n",
       "\n",
       "             수업교시 수업형태 강의실(동-호)(#연건,*평창) 주담당교수  정원(재학생)  수강신청인원  \\\n",
       "0  월(09:00~10:50)   실기               NaN   김용세  30 (30)    30.0   \n",
       "1  금(09:00~10:50)   실기               NaN   김은정  30 (30)    30.0   \n",
       "2  금(11:00~12:50)   실기               NaN   김은정  30 (30)    30.0   \n",
       "3  금(13:00~15:50)   이론           025-405   오해준  40 (40)     8.0   \n",
       "4  월(13:00~14:50)   이론           024-113   이병준  40 (40)    40.0   \n",
       "\n",
       "                                               비고  \n",
       "0                                     71동 3층 태권도장  \n",
       "1                                     71동 3층 태권도장  \n",
       "2                                     71동 3층 태권도장  \n",
       "3                                             NaN  \n",
       "4  초안지는 http://www.math.snu.ac.kr/board/portal 참조  "
      ]
     },
     "execution_count": 138,
     "metadata": {},
     "output_type": "execute_result"
    }
   ],
   "source": [
    "df_sugang.head(5)"
   ]
  },
  {
   "cell_type": "code",
   "execution_count": 173,
   "metadata": {},
   "outputs": [
    {
     "data": {
      "text/plain": [
       "['100', '(100)']"
      ]
     },
     "execution_count": 173,
     "metadata": {},
     "output_type": "execute_result"
    }
   ],
   "source": [
    "values['정원(재학생)'].split()"
   ]
  },
  {
   "cell_type": "code",
   "execution_count": 166,
   "metadata": {
    "collapsed": true
   },
   "outputs": [],
   "source": [
    "for idx, values in df_sugang.iterrows():\n",
    "    full = values['정원(재학생)'].split()[0]\n",
    "    current = values['수강신청인원']\n",
    "    if full > current and values['교과목명(부제명)'] in classes:\n",
    "        enroll_in_class(values['교과목명(부제명)'])\n"
   ]
  },
  {
   "cell_type": "code",
   "execution_count": 152,
   "metadata": {},
   "outputs": [
    {
     "data": {
      "text/plain": [
       "교과목명(부제명)\n",
       "호신술                   30.0\n",
       "호신술                   30.0\n",
       "호신술                   30.0\n",
       "고급시계열분석                8.0\n",
       "고속 프로그래밍 방법 및 실습      40.0\n",
       "수리확률론특강(기계학습/인공지능)    40.0\n",
       "기계학습 산업응용             30.0\n",
       "컴퓨터프로그래밍              64.0\n",
       "Name: 수강신청인원, dtype: float64"
      ]
     },
     "execution_count": 152,
     "metadata": {},
     "output_type": "execute_result"
    }
   ],
   "source": [
    "df_sugang['수강신청인원']"
   ]
  },
  {
   "cell_type": "code",
   "execution_count": 112,
   "metadata": {
    "collapsed": true
   },
   "outputs": [],
   "source": [
    "# driver = webdriver.Ie(os.path.join(path, 'IEDriverServer.exe'))\n",
    "# driver = webdriver.Chrome(executable_path=os.path.join(path, 'chromedriver.exe'))\n",
    "\n",
    "driver = webdriver.Firefox(executable_path=os.path.join(path, 'geckodriver.exe'))\n",
    "\n",
    "driver.get('http://sugang.snu.ac.kr')\n",
    "driver.switch_to.frame(driver.find_elements_by_tag_name(\"iframe\")[0])\n",
    "\n",
    "driver.implicitly_wait(3)\n",
    "driver.find_element_by_id('j_username').send_keys(HAKBUN)\n",
    "driver.implicitly_wait(1)\n",
    "driver.find_element_by_id('t_password').send_keys(PASSWORD)\n",
    "driver.find_element_by_xpath('//*[@id=\"CO010\"]/div/div/p[3]/a').click()\n",
    "\n",
    "driver.get('https://sugang.snu.ac.kr/sugang/cc/cc210.action')\n",
    "im = pyscreenshot.grab(bbox=(x1, y1, x2, y2))"
   ]
  },
  {
   "cell_type": "code",
   "execution_count": 30,
   "metadata": {
    "collapsed": true
   },
   "outputs": [],
   "source": [
    "save_path = os.path.join(path, 'screenshot/',\n",
    "                        datetime.datetime.now().strftime('%m%d_%H%M%S.tif'))"
   ]
  },
  {
   "cell_type": "code",
   "execution_count": 31,
   "metadata": {
    "collapsed": true
   },
   "outputs": [],
   "source": [
    "im.save(save_path, dpi=(600,600))"
   ]
  },
  {
   "cell_type": "code",
   "execution_count": 31,
   "metadata": {},
   "outputs": [
    {
     "data": {
      "image/png": "[encoded data removed]",
      "text/plain": [
       "<PIL.PngImagePlugin.PngImageFile image mode=RGB size=113x50 at 0x2D4D15C4198>"
      ]
     },
     "execution_count": 31,
     "metadata": {},
     "output_type": "execute_result"
    }
   ],
   "source": [
    "Image.open(save_path)"
   ]
  },
  {
   "cell_type": "code",
   "execution_count": 33,
   "metadata": {},
   "outputs": [
    {
     "data": {
      "image/png": "[encoded data removed]",
      "text/plain": [
       "<PIL.Image.Image image mode=RGB size=400x200 at 0x1EDC2585358>"
      ]
     },
     "execution_count": 33,
     "metadata": {},
     "output_type": "execute_result"
    }
   ],
   "source": [
    "im.resize((400, 200))"
   ]
  },
  {
   "cell_type": "code",
   "execution_count": 32,
   "metadata": {},
   "outputs": [
    {
     "ename": "NameError",
     "evalue": "name 'im' is not defined",
     "output_type": "error",
     "traceback": [
      "\u001b[0;31m---------------------------------------------------------------------------\u001b[0m",
      "\u001b[0;31mNameError\u001b[0m                                 Traceback (most recent call last)",
      "\u001b[0;32m<ipython-input-32-f5fe2b0aed09>\u001b[0m in \u001b[0;36m<module>\u001b[0;34m()\u001b[0m\n\u001b[0;32m----> 1\u001b[0;31m \u001b[0mpytesseract\u001b[0m\u001b[1;33m.\u001b[0m\u001b[0mimage_to_string\u001b[0m\u001b[1;33m(\u001b[0m\u001b[0mim\u001b[0m\u001b[1;33m)\u001b[0m\u001b[1;33m\u001b[0m\u001b[0m\n\u001b[0m",
      "\u001b[0;31mNameError\u001b[0m: name 'im' is not defined"
     ]
    }
   ],
   "source": [
    "pytesseract.image_to_string(im)"
   ]
  },
  {
   "cell_type": "code",
   "execution_count": 33,
   "metadata": {},
   "outputs": [
    {
     "ename": "NameError",
     "evalue": "name 'im' is not defined",
     "output_type": "error",
     "traceback": [
      "\u001b[0;31m---------------------------------------------------------------------------\u001b[0m",
      "\u001b[0;31mNameError\u001b[0m                                 Traceback (most recent call last)",
      "\u001b[0;32m<ipython-input-33-a6a92423a3e2>\u001b[0m in \u001b[0;36m<module>\u001b[0;34m()\u001b[0m\n\u001b[0;32m----> 1\u001b[0;31m \u001b[0mpytesseract\u001b[0m\u001b[1;33m.\u001b[0m\u001b[0mimage_to_string\u001b[0m\u001b[1;33m(\u001b[0m\u001b[0mim\u001b[0m\u001b[1;33m.\u001b[0m\u001b[0mresize\u001b[0m\u001b[1;33m(\u001b[0m\u001b[1;33m(\u001b[0m\u001b[1;36m300\u001b[0m\u001b[1;33m,\u001b[0m \u001b[1;36m200\u001b[0m\u001b[1;33m)\u001b[0m\u001b[1;33m)\u001b[0m\u001b[1;33m)\u001b[0m\u001b[1;33m\u001b[0m\u001b[0m\n\u001b[0m",
      "\u001b[0;31mNameError\u001b[0m: name 'im' is not defined"
     ]
    }
   ],
   "source": [
    "pytesseract.image_to_string(im.resize((300, 200)))"
   ]
  },
  {
   "cell_type": "code",
   "execution_count": 40,
   "metadata": {},
   "outputs": [
    {
     "data": {
      "image/png": "[encoded data removed]",
      "text/plain": [
       "<PIL.PngImagePlugin.PngImageFile image mode=RGB size=113x50 at 0x1EDC25850F0>"
      ]
     },
     "execution_count": 40,
     "metadata": {},
     "output_type": "execute_result"
    }
   ],
   "source": [
    "im"
   ]
  },
  {
   "cell_type": "code",
   "execution_count": 90,
   "metadata": {
    "collapsed": true
   },
   "outputs": [],
   "source": [
    "im = Image.open('./screenshot/0728_172358.png')"
   ]
  },
  {
   "cell_type": "code",
   "execution_count": 49,
   "metadata": {
    "collapsed": true
   },
   "outputs": [],
   "source": [
    "im = im.filter(ImageFilter.MedianFilter())\n",
    "enhancer = ImageEnhance.Contrast(im)"
   ]
  },
  {
   "cell_type": "code",
   "execution_count": 61,
   "metadata": {
    "collapsed": true
   },
   "outputs": [],
   "source": [
    "im = enhancer.enhance(10)"
   ]
  },
  {
   "cell_type": "code",
   "execution_count": 67,
   "metadata": {
    "collapsed": true
   },
   "outputs": [],
   "source": [
    "a = pytesseract.image_to_string(im)"
   ]
  },
  {
   "cell_type": "code",
   "execution_count": 69,
   "metadata": {},
   "outputs": [
    {
     "data": {
      "text/plain": [
       "'34'"
      ]
     },
     "execution_count": 69,
     "metadata": {},
     "output_type": "execute_result"
    }
   ],
   "source": [
    "\"\".join(a.split())"
   ]
  },
  {
   "cell_type": "markdown",
   "metadata": {},
   "source": [
    "### Image to binary"
   ]
  },
  {
   "cell_type": "code",
   "execution_count": 99,
   "metadata": {},
   "outputs": [
    {
     "name": "stdout",
     "output_type": "stream",
     "text": [
      "\n"
     ]
    }
   ],
   "source": [
    "# im = Image.open(im) # the second one \n",
    "im = im.filter(ImageFilter.MedianFilter())\n",
    "enhancer = ImageEnhance.Contrast(im)\n",
    "im = enhancer.enhance(10)\n",
    "# im = im.convert('1')\n",
    "im.save('screenshot/temp2.jpg')\n",
    "text = pytesseract.image_to_string(Image.open('screenshot/temp2.jpg'), config='outputbase digits')\n",
    "print(text)"
   ]
  },
  {
   "cell_type": "code",
   "execution_count": 100,
   "metadata": {},
   "outputs": [
    {
     "data": {
      "image/png": "[encoded data removed]",
      "text/plain": [
       "<PIL.Image.Image image mode=RGB size=113x50 at 0x1EDC280BE80>"
      ]
     },
     "execution_count": 100,
     "metadata": {},
     "output_type": "execute_result"
    }
   ],
   "source": [
    "im"
   ]
  },
  {
   "cell_type": "markdown",
   "metadata": {},
   "source": [
    "## Refresh"
   ]
  },
  {
   "cell_type": "code",
   "execution_count": 27,
   "metadata": {
    "collapsed": true
   },
   "outputs": [],
   "source": [
    "driver.get('https://sugang.snu.ac.kr/sugang/cc/cc210.action')\n",
    "\n",
    "im = ImageGrab.grab(bbox=(x1, y1, x2, y2))"
   ]
  },
  {
   "cell_type": "markdown",
   "metadata": {},
   "source": [
    "### Save to png file"
   ]
  },
  {
   "cell_type": "code",
   "execution_count": 123,
   "metadata": {
    "collapsed": true
   },
   "outputs": [],
   "source": [
    "save_path = os.path.join(path, 'screenshot/',\n",
    "                        datetime.datetime.now().strftime('%m%d_%H%M%S.png'))\n",
    "im.save(save_path, dpi=(300, 300))"
   ]
  },
  {
   "cell_type": "markdown",
   "metadata": {},
   "source": [
    "### Parse table from source"
   ]
  },
  {
   "cell_type": "code",
   "execution_count": 18,
   "metadata": {
    "collapsed": true
   },
   "outputs": [],
   "source": [
    "html = driver.page_source\n",
    "soup = BeautifulSoup(html, 'html.parser')"
   ]
  },
  {
   "cell_type": "code",
   "execution_count": 31,
   "metadata": {
    "collapsed": true
   },
   "outputs": [],
   "source": [
    "# tbl_basic = soup.find(\"table\", {\"class\":\"tbl_basic\"})"
   ]
  },
  {
   "cell_type": "code",
   "execution_count": 35,
   "metadata": {
    "collapsed": true
   },
   "outputs": [],
   "source": [
    "data = pd.read_html(html)"
   ]
  },
  {
   "cell_type": "code",
   "execution_count": 42,
   "metadata": {
    "collapsed": true
   },
   "outputs": [],
   "source": [
    "df_sugang = data[0]"
   ]
  },
  {
   "cell_type": "code",
   "execution_count": 44,
   "metadata": {},
   "outputs": [
    {
     "data": {
      "text/html": [
       "<div>\n",
       "<table border=\"1\" class=\"dataframe\">\n",
       "  <thead>\n",
       "    <tr style=\"text-align: right;\">\n",
       "      <th></th>\n",
       "      <th>선택</th>\n",
       "      <th>교과구분</th>\n",
       "      <th>개설대학</th>\n",
       "      <th>개설학과</th>\n",
       "      <th>학년</th>\n",
       "      <th>교과목번호</th>\n",
       "      <th>강좌번호</th>\n",
       "      <th>교과목명(부제명)</th>\n",
       "      <th>학점-강의-실습</th>\n",
       "      <th>수업교시</th>\n",
       "      <th>수업형태</th>\n",
       "      <th>강의실(동-호)(#연건,*평창)</th>\n",
       "      <th>주담당교수</th>\n",
       "      <th>정원(재학생)</th>\n",
       "      <th>수강신청인원</th>\n",
       "      <th>비고</th>\n",
       "    </tr>\n",
       "  </thead>\n",
       "  <tbody>\n",
       "    <tr>\n",
       "      <th>0</th>\n",
       "      <td>NaN</td>\n",
       "      <td>교양</td>\n",
       "      <td>사범대학</td>\n",
       "      <td>체육교육과</td>\n",
       "      <td>1학년</td>\n",
       "      <td>051.017</td>\n",
       "      <td>1.0</td>\n",
       "      <td>호신술</td>\n",
       "      <td>1-0-2</td>\n",
       "      <td>월(09:00~10:50)</td>\n",
       "      <td>실기</td>\n",
       "      <td>NaN</td>\n",
       "      <td>김용세</td>\n",
       "      <td>30 (30)</td>\n",
       "      <td>30.0</td>\n",
       "      <td>71동 3층 태권도장</td>\n",
       "    </tr>\n",
       "    <tr>\n",
       "      <th>1</th>\n",
       "      <td>NaN</td>\n",
       "      <td>교양</td>\n",
       "      <td>사범대학</td>\n",
       "      <td>체육교육과</td>\n",
       "      <td>1학년</td>\n",
       "      <td>051.017</td>\n",
       "      <td>2.0</td>\n",
       "      <td>호신술</td>\n",
       "      <td>1-0-2</td>\n",
       "      <td>금(09:00~10:50)</td>\n",
       "      <td>실기</td>\n",
       "      <td>NaN</td>\n",
       "      <td>김은정</td>\n",
       "      <td>30 (30)</td>\n",
       "      <td>30.0</td>\n",
       "      <td>71동 3층 태권도장</td>\n",
       "    </tr>\n",
       "    <tr>\n",
       "      <th>2</th>\n",
       "      <td>NaN</td>\n",
       "      <td>교양</td>\n",
       "      <td>사범대학</td>\n",
       "      <td>체육교육과</td>\n",
       "      <td>1학년</td>\n",
       "      <td>051.017</td>\n",
       "      <td>3.0</td>\n",
       "      <td>호신술</td>\n",
       "      <td>1-0-2</td>\n",
       "      <td>금(11:00~12:50)</td>\n",
       "      <td>실기</td>\n",
       "      <td>NaN</td>\n",
       "      <td>김은정</td>\n",
       "      <td>30 (30)</td>\n",
       "      <td>30.0</td>\n",
       "      <td>71동 3층 태권도장</td>\n",
       "    </tr>\n",
       "    <tr>\n",
       "      <th>3</th>\n",
       "      <td>NaN</td>\n",
       "      <td>전선</td>\n",
       "      <td>자연과학대학</td>\n",
       "      <td>통계학과</td>\n",
       "      <td>0학년</td>\n",
       "      <td>326.725A</td>\n",
       "      <td>1.0</td>\n",
       "      <td>고급시계열분석</td>\n",
       "      <td>3-3-0</td>\n",
       "      <td>금(13:00~15:50)</td>\n",
       "      <td>이론</td>\n",
       "      <td>025-405</td>\n",
       "      <td>오해준</td>\n",
       "      <td>40 (40)</td>\n",
       "      <td>8.0</td>\n",
       "      <td>NaN</td>\n",
       "    </tr>\n",
       "    <tr>\n",
       "      <th>4</th>\n",
       "      <td>NaN</td>\n",
       "      <td>전선</td>\n",
       "      <td>자연과학대학</td>\n",
       "      <td>수리과학부</td>\n",
       "      <td>3학년</td>\n",
       "      <td>3341.362</td>\n",
       "      <td>1.0</td>\n",
       "      <td>고속 프로그래밍 방법 및 실습</td>\n",
       "      <td>3-2-2</td>\n",
       "      <td>월(13:00~14:50)</td>\n",
       "      <td>이론</td>\n",
       "      <td>024-113</td>\n",
       "      <td>이병준</td>\n",
       "      <td>40 (40)</td>\n",
       "      <td>40.0</td>\n",
       "      <td>초안지는 http://www.math.snu.ac.kr/board/portal 참조</td>\n",
       "    </tr>\n",
       "  </tbody>\n",
       "</table>\n",
       "</div>"
      ],
      "text/plain": [
       "    선택 교과구분    개설대학   개설학과   학년     교과목번호  강좌번호         교과목명(부제명) 학점-강의-실습  \\\n",
       "0  NaN   교양    사범대학  체육교육과  1학년   051.017   1.0               호신술    1-0-2   \n",
       "1  NaN   교양    사범대학  체육교육과  1학년   051.017   2.0               호신술    1-0-2   \n",
       "2  NaN   교양    사범대학  체육교육과  1학년   051.017   3.0               호신술    1-0-2   \n",
       "3  NaN   전선  자연과학대학   통계학과  0학년  326.725A   1.0           고급시계열분석    3-3-0   \n",
       "4  NaN   전선  자연과학대학  수리과학부  3학년  3341.362   1.0  고속 프로그래밍 방법 및 실습    3-2-2   \n",
       "\n",
       "             수업교시 수업형태 강의실(동-호)(#연건,*평창) 주담당교수  정원(재학생)  수강신청인원  \\\n",
       "0  월(09:00~10:50)   실기               NaN   김용세  30 (30)    30.0   \n",
       "1  금(09:00~10:50)   실기               NaN   김은정  30 (30)    30.0   \n",
       "2  금(11:00~12:50)   실기               NaN   김은정  30 (30)    30.0   \n",
       "3  금(13:00~15:50)   이론           025-405   오해준  40 (40)     8.0   \n",
       "4  월(13:00~14:50)   이론           024-113   이병준  40 (40)    40.0   \n",
       "\n",
       "                                               비고  \n",
       "0                                     71동 3층 태권도장  \n",
       "1                                     71동 3층 태권도장  \n",
       "2                                     71동 3층 태권도장  \n",
       "3                                             NaN  \n",
       "4  초안지는 http://www.math.snu.ac.kr/board/portal 참조  "
      ]
     },
     "execution_count": 44,
     "metadata": {},
     "output_type": "execute_result"
    }
   ],
   "source": [
    "df_sugang.head(5)"
   ]
  },
  {
   "cell_type": "code",
   "execution_count": 13,
   "metadata": {},
   "outputs": [
    {
     "name": "stdout",
     "output_type": "stream",
     "text": [
      "{'x': 419, 'y': 613}\n"
     ]
    }
   ],
   "source": [
    "from ctypes import windll, Structure, c_long, byref\n",
    "\n",
    "\n",
    "class POINT(Structure):\n",
    "    _fields_ = [(\"x\", c_long), (\"y\", c_long)]\n",
    "\n",
    "\n",
    "\n",
    "def queryMousePosition():\n",
    "    pt = POINT()\n",
    "    windll.user32.GetCursorPos(byref(pt))\n",
    "    return { \"x\": pt.x, \"y\": pt.y}\n",
    "\n",
    "\n",
    "pos = queryMousePosition()\n",
    "print(pos)"
   ]
  },
  {
   "cell_type": "code",
   "execution_count": 12,
   "metadata": {
    "collapsed": true
   },
   "outputs": [],
   "source": [
    "x1, y1 = 875, 1266\n",
    "x2, y2 = 988, 1316 "
   ]
  },
  {
   "cell_type": "code",
   "execution_count": null,
   "metadata": {
    "collapsed": true
   },
   "outputs": [],
   "source": []
  },
  {
   "cell_type": "code",
   "execution_count": null,
   "metadata": {
    "collapsed": true
   },
   "outputs": [],
   "source": []
  },
  {
   "cell_type": "code",
   "execution_count": null,
   "metadata": {
    "collapsed": true
   },
   "outputs": [],
   "source": []
  },
  {
   "cell_type": "code",
   "execution_count": null,
   "metadata": {
    "collapsed": true
   },
   "outputs": [],
   "source": []
  },
  {
   "cell_type": "code",
   "execution_count": null,
   "metadata": {
    "collapsed": true
   },
   "outputs": [],
   "source": []
  },
  {
   "cell_type": "code",
   "execution_count": null,
   "metadata": {
    "collapsed": true
   },
   "outputs": [],
   "source": [
    "# pwd = WebDriverWait(driver, 10).until(lambda x: x.find_element_by_id(\"t_password\"))\n",
    "\n",
    "# pwd = WebDriverWait(driver, 1).until(\n",
    "#     EC.visibility_of_element_located((By.ID, \"t_password\")))\n",
    "# pwd.send_keys(PASSWORD)\n",
    "# try:\n",
    "# #     driver.find_element_by_id('v_password').click()\n",
    "# #     driver.find_element_by_id('t_password').click()\n",
    "#     driver.implicitly_wait(1)\n",
    "#     driver.find_element_by_id('t_password').send_keys(PASSWORD)\n",
    "    \n",
    "# except WebDriverException:\n",
    "#     driver.implicitly_wait(1)\n",
    "#     pwd = WebDriverWait(driver, 1).until(\n",
    "#         EC.visibility_of_element_located(\n",
    "#             (By.ID, \"t_password\")))\n",
    "#     pwd.send_keys(PASSWORD)\n",
    "#     pwd = driver.find_element_by_id('t_password')\n",
    "#     pwd.send_keys(PASSWORD)"
   ]
  },
  {
   "cell_type": "code",
   "execution_count": 20,
   "metadata": {},
   "outputs": [],
   "source": [
    "import cv2"
   ]
  },
  {
   "cell_type": "code",
   "execution_count": 23,
   "metadata": {
    "collapsed": true
   },
   "outputs": [],
   "source": [
    "import cv2\n",
    "import numpy as np\n",
    "import matplotlib.pyplot as plt\n",
    "%matplotlib inline \n",
    "\n",
    "def show(img):\n",
    "    plt.imshow(img, cmap=\"gray\")\n",
    "    plt.show()"
   ]
  },
  {
   "cell_type": "code",
   "execution_count": null,
   "metadata": {
    "collapsed": true
   },
   "outputs": [],
   "source": [
    "def ocr(img):\n",
    "    # Tesseract mode settings:\n",
    "    #   Page Segmentation mode (PSmode) = 3 (defualt = 3)\n",
    "    #   OCR Enginer Mode (OEM) = 3 (defualt = 3)\n",
    "    tesser = cv2.text.OCRTesseract_create('C:/Program Files/Tesseract 4.0.0/tessdata/','eng','0123456789',3,3)\n",
    "    retval = tesser.run(img, 0) # return string type\n",
    "    print 'OCR Output: ' + retval\n",
    "\n",
    "# Directly feed image to Tesseact\n",
    "img = cv2.imread('./imagesStackoverflow/SmallDigits-x4.png')\n",
    "ocr(img)\n",
    "\n",
    "# Load image as gray scale \n",
    "img = cv2.imread('./imagesStackoverflow/SmallDigits-x4.png',0);\n",
    "show(img)\n",
    "ocr(img)"
   ]
  },
  {
   "cell_type": "code",
   "execution_count": 49,
   "metadata": {},
   "outputs": [],
   "source": [
    "# img = cv2.imread(save_path)\n",
    "img = cv2.imread(save_path, 0)\n",
    "img_th = cv2.adaptiveThreshold(img, 255,\\\n",
    "    cv2.ADAPTIVE_THRESH_MEAN_C,cv2.THRESH_BINARY, 11, 2)\n",
    "pytesseract.image_to_string(Image.fromarray(img_th), config ='-c tessedit_char_whitelist=0123456789 -psm 11 -oem 2')"
   ]
  },
  {
   "cell_type": "code",
   "execution_count": 50,
   "metadata": {},
   "outputs": [
    {
     "data": {
      "image/png": "[encoded data removed]",
      "text/plain": [
       "<matplotlib.figure.Figure at 0x1d8b80bb828>"
      ]
     },
     "metadata": {},
     "output_type": "display_data"
    }
   ],
   "source": [
    "height, width = img.shape\n",
    "imgResized = cv2.resize(img, ( width*3, height*3))\n",
    "show(imgResized)"
   ]
  },
  {
   "cell_type": "code",
   "execution_count": 34,
   "metadata": {},
   "outputs": [
    {
     "data": {
      "text/plain": [
       "(150, 339)"
      ]
     },
     "execution_count": 34,
     "metadata": {},
     "output_type": "execute_result"
    }
   ],
   "source": [
    "imgResized.shape"
   ]
  },
  {
   "cell_type": "code",
   "execution_count": 68,
   "metadata": {
    "collapsed": true
   },
   "outputs": [],
   "source": [
    "img_th = cv2.adaptiveThreshold(img, 255,\\\n",
    "    cv2.ADAPTIVE_THRESH_MEAN_C,cv2.THRESH_BINARY, 11, 2)"
   ]
  },
  {
   "cell_type": "code",
   "execution_count": 69,
   "metadata": {},
   "outputs": [
    {
     "data": {
      "text/plain": [
       "''"
      ]
     },
     "execution_count": 69,
     "metadata": {},
     "output_type": "execute_result"
    }
   ],
   "source": [
    "pytesseract.image_to_string(Image.fromarray(img_th))"
   ]
  },
  {
   "cell_type": "code",
   "execution_count": 70,
   "metadata": {},
   "outputs": [
    {
     "data": {
      "image/png": "[encoded data removed]",
      "text/plain": [
       "<matplotlib.figure.Figure at 0x1d8b9294ef0>"
      ]
     },
     "metadata": {},
     "output_type": "display_data"
    }
   ],
   "source": [
    "show(img_th)"
   ]
  },
  {
   "cell_type": "code",
   "execution_count": 83,
   "metadata": {},
   "outputs": [
    {
     "data": {
      "image/png": "[encoded data removed]",
      "text/plain": [
       "<PIL.Image.Image image mode=L size=113x50 at 0x1D8B93B6FD0>"
      ]
     },
     "execution_count": 83,
     "metadata": {},
     "output_type": "execute_result"
    }
   ],
   "source": [
    "Image.fromarray(img_th)"
   ]
  },
  {
   "cell_type": "code",
   "execution_count": null,
   "metadata": {
    "collapsed": true
   },
   "outputs": [],
   "source": [
    "cv2.imwrite(save_path)"
   ]
  },
  {
   "cell_type": "code",
   "execution_count": 81,
   "metadata": {
    "collapsed": true
   },
   "outputs": [],
   "source": [
    "im = Image.fromarray(img_th)"
   ]
  },
  {
   "cell_type": "code",
   "execution_count": 82,
   "metadata": {},
   "outputs": [
    {
     "data": {
      "image/png": "[encoded data removed]",
      "text/plain": [
       "<PIL.Image.Image image mode=L size=113x50 at 0x1D8B934F978>"
      ]
     },
     "execution_count": 82,
     "metadata": {},
     "output_type": "execute_result"
    }
   ],
   "source": [
    "im"
   ]
  },
  {
   "cell_type": "code",
   "execution_count": 89,
   "metadata": {},
   "outputs": [
    {
     "data": {
      "text/plain": [
       "'5 6'"
      ]
     },
     "execution_count": 89,
     "metadata": {},
     "output_type": "execute_result"
    }
   ],
   "source": [
    "pytesseract.image_to_string(Image.fromarray(img_th), config ='-c tessedit_char_whitelist=0123456789 -psm 11 -oem 2')"
   ]
  },
  {
   "cell_type": "code",
   "execution_count": 42,
   "metadata": {},
   "outputs": [
    {
     "ename": "AttributeError",
     "evalue": "'numpy.ndarray' object has no attribute 'split'",
     "output_type": "error",
     "traceback": [
      "\u001b[0;31m---------------------------------------------------------------------------\u001b[0m",
      "\u001b[0;31mAttributeError\u001b[0m                            Traceback (most recent call last)",
      "\u001b[0;32m<ipython-input-42-d8e650bb75fa>\u001b[0m in \u001b[0;36m<module>\u001b[0;34m()\u001b[0m\n\u001b[0;32m----> 1\u001b[0;31m \u001b[0mpytesseract\u001b[0m\u001b[1;33m.\u001b[0m\u001b[0mimage_to_string\u001b[0m\u001b[1;33m(\u001b[0m\u001b[0mimg\u001b[0m\u001b[1;33m)\u001b[0m\u001b[1;33m\u001b[0m\u001b[0m\n\u001b[0m",
      "\u001b[0;32mC:\\Users\\Jisung\\Anaconda3\\lib\\site-packages\\pytesseract\\pytesseract.py\u001b[0m in \u001b[0;36mimage_to_string\u001b[0;34m(image, lang, boxes, config)\u001b[0m\n\u001b[1;32m    102\u001b[0m     '''\n\u001b[1;32m    103\u001b[0m \u001b[1;33m\u001b[0m\u001b[0m\n\u001b[0;32m--> 104\u001b[0;31m     \u001b[1;32mif\u001b[0m \u001b[0mlen\u001b[0m\u001b[1;33m(\u001b[0m\u001b[0mimage\u001b[0m\u001b[1;33m.\u001b[0m\u001b[0msplit\u001b[0m\u001b[1;33m(\u001b[0m\u001b[1;33m)\u001b[0m\u001b[1;33m)\u001b[0m \u001b[1;33m==\u001b[0m \u001b[1;36m4\u001b[0m\u001b[1;33m:\u001b[0m\u001b[1;33m\u001b[0m\u001b[0m\n\u001b[0m\u001b[1;32m    105\u001b[0m         \u001b[1;31m# In case we have 4 channels, lets discard the Alpha.\u001b[0m\u001b[1;33m\u001b[0m\u001b[1;33m\u001b[0m\u001b[0m\n\u001b[1;32m    106\u001b[0m         \u001b[1;31m# Kind of a hack, should fix in the future some time.\u001b[0m\u001b[1;33m\u001b[0m\u001b[1;33m\u001b[0m\u001b[0m\n",
      "\u001b[0;31mAttributeError\u001b[0m: 'numpy.ndarray' object has no attribute 'split'"
     ]
    }
   ],
   "source": [
    "pytesseract.image_to_string(img)"
   ]
  }
 ],
 "metadata": {
  "kernelspec": {
   "display_name": "Python 3",
   "language": "python",
   "name": "python3"
  },
  "language_info": {
   "codemirror_mode": {
    "name": "ipython",
    "version": 3
   },
   "file_extension": ".py",
   "mimetype": "text/x-python",
   "name": "python",
   "nbconvert_exporter": "python",
   "pygments_lexer": "ipython3",
   "version": "3.6.0"
  }
 },
 "nbformat": 4,
 "nbformat_minor": 2
}
